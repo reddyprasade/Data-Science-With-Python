{
  "cells": [
    {
      "cell_type": "markdown",
      "source": [
        "# Tutorial 3b: Probability distributions and their stories\n",
        "\n"
      ],
      "metadata": {}
    },
    {
      "cell_type": "code",
      "source": [
        "import numpy as np\n",
        "import scipy.stats as st\n",
        "\n",
        "import bokeh.io\n",
        "import bokeh.layouts\n",
        "import bokeh.plotting\n",
        "\n",
        "bokeh.io.output_notebook()"
      ],
      "outputs": [
        {
          "output_type": "display_data",
          "data": {
            "text/html": "\n    <div class=\"bk-root\">\n        <a href=\"https://bokeh.org\" target=\"_blank\" class=\"bk-logo bk-logo-small bk-logo-notebook\"></a>\n        <span id=\"1001\">Loading BokehJS ...</span>\n    </div>"
          },
          "metadata": {}
        },
        {
          "output_type": "display_data",
          "data": {
            "application/javascript": "\n(function(root) {\n  function now() {\n    return new Date();\n  }\n\n  var force = true;\n\n  if (typeof root._bokeh_onload_callbacks === \"undefined\" || force === true) {\n    root._bokeh_onload_callbacks = [];\n    root._bokeh_is_loading = undefined;\n  }\n\n  var JS_MIME_TYPE = 'application/javascript';\n  var HTML_MIME_TYPE = 'text/html';\n  var EXEC_MIME_TYPE = 'application/vnd.bokehjs_exec.v0+json';\n  var CLASS_NAME = 'output_bokeh rendered_html';\n\n  /**\n   * Render data to the DOM node\n   */\n  function render(props, node) {\n    var script = document.createElement(\"script\");\n    node.appendChild(script);\n  }\n\n  /**\n   * Handle when an output is cleared or removed\n   */\n  function handleClearOutput(event, handle) {\n    var cell = handle.cell;\n\n    var id = cell.output_area._bokeh_element_id;\n    var server_id = cell.output_area._bokeh_server_id;\n    // Clean up Bokeh references\n    if (id != null && id in Bokeh.index) {\n      Bokeh.index[id].model.document.clear();\n      delete Bokeh.index[id];\n    }\n\n    if (server_id !== undefined) {\n      // Clean up Bokeh references\n      var cmd = \"from bokeh.io.state import curstate; print(curstate().uuid_to_server['\" + server_id + \"'].get_sessions()[0].document.roots[0]._id)\";\n      cell.notebook.kernel.execute(cmd, {\n        iopub: {\n          output: function(msg) {\n            var id = msg.content.text.trim();\n            if (id in Bokeh.index) {\n              Bokeh.index[id].model.document.clear();\n              delete Bokeh.index[id];\n            }\n          }\n        }\n      });\n      // Destroy server and session\n      var cmd = \"import bokeh.io.notebook as ion; ion.destroy_server('\" + server_id + \"')\";\n      cell.notebook.kernel.execute(cmd);\n    }\n  }\n\n  /**\n   * Handle when a new output is added\n   */\n  function handleAddOutput(event, handle) {\n    var output_area = handle.output_area;\n    var output = handle.output;\n\n    // limit handleAddOutput to display_data with EXEC_MIME_TYPE content only\n    if ((output.output_type != \"display_data\") || (!output.data.hasOwnProperty(EXEC_MIME_TYPE))) {\n      return\n    }\n\n    var toinsert = output_area.element.find(\".\" + CLASS_NAME.split(' ')[0]);\n\n    if (output.metadata[EXEC_MIME_TYPE][\"id\"] !== undefined) {\n      toinsert[toinsert.length - 1].firstChild.textContent = output.data[JS_MIME_TYPE];\n      // store reference to embed id on output_area\n      output_area._bokeh_element_id = output.metadata[EXEC_MIME_TYPE][\"id\"];\n    }\n    if (output.metadata[EXEC_MIME_TYPE][\"server_id\"] !== undefined) {\n      var bk_div = document.createElement(\"div\");\n      bk_div.innerHTML = output.data[HTML_MIME_TYPE];\n      var script_attrs = bk_div.children[0].attributes;\n      for (var i = 0; i < script_attrs.length; i++) {\n        toinsert[toinsert.length - 1].firstChild.setAttribute(script_attrs[i].name, script_attrs[i].value);\n        toinsert[toinsert.length - 1].firstChild.textContent = bk_div.children[0].textContent\n      }\n      // store reference to server id on output_area\n      output_area._bokeh_server_id = output.metadata[EXEC_MIME_TYPE][\"server_id\"];\n    }\n  }\n\n  function register_renderer(events, OutputArea) {\n\n    function append_mime(data, metadata, element) {\n      // create a DOM node to render to\n      var toinsert = this.create_output_subarea(\n        metadata,\n        CLASS_NAME,\n        EXEC_MIME_TYPE\n      );\n      this.keyboard_manager.register_events(toinsert);\n      // Render to node\n      var props = {data: data, metadata: metadata[EXEC_MIME_TYPE]};\n      render(props, toinsert[toinsert.length - 1]);\n      element.append(toinsert);\n      return toinsert\n    }\n\n    /* Handle when an output is cleared or removed */\n    events.on('clear_output.CodeCell', handleClearOutput);\n    events.on('delete.Cell', handleClearOutput);\n\n    /* Handle when a new output is added */\n    events.on('output_added.OutputArea', handleAddOutput);\n\n    /**\n     * Register the mime type and append_mime function with output_area\n     */\n    OutputArea.prototype.register_mime_type(EXEC_MIME_TYPE, append_mime, {\n      /* Is output safe? */\n      safe: true,\n      /* Index of renderer in `output_area.display_order` */\n      index: 0\n    });\n  }\n\n  // register the mime type if in Jupyter Notebook environment and previously unregistered\n  if (root.Jupyter !== undefined) {\n    var events = require('base/js/events');\n    var OutputArea = require('notebook/js/outputarea').OutputArea;\n\n    if (OutputArea.prototype.mime_types().indexOf(EXEC_MIME_TYPE) == -1) {\n      register_renderer(events, OutputArea);\n    }\n  }\n\n  \n  if (typeof (root._bokeh_timeout) === \"undefined\" || force === true) {\n    root._bokeh_timeout = Date.now() + 5000;\n    root._bokeh_failed_load = false;\n  }\n\n  var NB_LOAD_WARNING = {'data': {'text/html':\n     \"<div style='background-color: #fdd'>\\n\"+\n     \"<p>\\n\"+\n     \"BokehJS does not appear to have successfully loaded. If loading BokehJS from CDN, this \\n\"+\n     \"may be due to a slow or bad network connection. Possible fixes:\\n\"+\n     \"</p>\\n\"+\n     \"<ul>\\n\"+\n     \"<li>re-rerun `output_notebook()` to attempt to load from CDN again, or</li>\\n\"+\n     \"<li>use INLINE resources instead, as so:</li>\\n\"+\n     \"</ul>\\n\"+\n     \"<code>\\n\"+\n     \"from bokeh.resources import INLINE\\n\"+\n     \"output_notebook(resources=INLINE)\\n\"+\n     \"</code>\\n\"+\n     \"</div>\"}};\n\n  function display_loaded() {\n    var el = document.getElementById(\"1001\");\n    if (el != null) {\n      el.textContent = \"BokehJS is loading...\";\n    }\n    if (root.Bokeh !== undefined) {\n      if (el != null) {\n        el.textContent = \"BokehJS \" + root.Bokeh.version + \" successfully loaded.\";\n      }\n    } else if (Date.now() < root._bokeh_timeout) {\n      setTimeout(display_loaded, 100)\n    }\n  }\n\n\n  function run_callbacks() {\n    try {\n      root._bokeh_onload_callbacks.forEach(function(callback) {\n        if (callback != null)\n          callback();\n      });\n    } finally {\n      delete root._bokeh_onload_callbacks\n    }\n    console.debug(\"Bokeh: all callbacks have finished\");\n  }\n\n  function load_libs(css_urls, js_urls, callback) {\n    if (css_urls == null) css_urls = [];\n    if (js_urls == null) js_urls = [];\n\n    root._bokeh_onload_callbacks.push(callback);\n    if (root._bokeh_is_loading > 0) {\n      console.debug(\"Bokeh: BokehJS is being loaded, scheduling callback at\", now());\n      return null;\n    }\n    if (js_urls == null || js_urls.length === 0) {\n      run_callbacks();\n      return null;\n    }\n    console.debug(\"Bokeh: BokehJS not loaded, scheduling load and callback at\", now());\n    root._bokeh_is_loading = css_urls.length + js_urls.length;\n\n    function on_load() {\n      root._bokeh_is_loading--;\n      if (root._bokeh_is_loading === 0) {\n        console.debug(\"Bokeh: all BokehJS libraries/stylesheets loaded\");\n        run_callbacks()\n      }\n    }\n\n    function on_error() {\n      console.error(\"failed to load \" + url);\n    }\n\n    for (var i = 0; i < css_urls.length; i++) {\n      var url = css_urls[i];\n      const element = document.createElement(\"link\");\n      element.onload = on_load;\n      element.onerror = on_error;\n      element.rel = \"stylesheet\";\n      element.type = \"text/css\";\n      element.href = url;\n      console.debug(\"Bokeh: injecting link tag for BokehJS stylesheet: \", url);\n      document.body.appendChild(element);\n    }\n\n    const hashes = {\"https://cdn.bokeh.org/bokeh/release/bokeh-2.2.3.min.js\": \"T2yuo9Oe71Cz/I4X9Ac5+gpEa5a8PpJCDlqKYO0CfAuEszu1JrXLl8YugMqYe3sM\", \"https://cdn.bokeh.org/bokeh/release/bokeh-widgets-2.2.3.min.js\": \"98GDGJ0kOMCUMUePhksaQ/GYgB3+NH9h996V88sh3aOiUNX3N+fLXAtry6xctSZ6\", \"https://cdn.bokeh.org/bokeh/release/bokeh-tables-2.2.3.min.js\": \"89bArO+nlbP3sgakeHjCo1JYxYR5wufVgA3IbUvDY+K7w4zyxJqssu7wVnfeKCq8\"};\n\n    for (var i = 0; i < js_urls.length; i++) {\n      var url = js_urls[i];\n      var element = document.createElement('script');\n      element.onload = on_load;\n      element.onerror = on_error;\n      element.async = false;\n      element.src = url;\n      if (url in hashes) {\n        element.crossOrigin = \"anonymous\";\n        element.integrity = \"sha384-\" + hashes[url];\n      }\n      console.debug(\"Bokeh: injecting script tag for BokehJS library: \", url);\n      document.head.appendChild(element);\n    }\n  };\n\n  function inject_raw_css(css) {\n    const element = document.createElement(\"style\");\n    element.appendChild(document.createTextNode(css));\n    document.body.appendChild(element);\n  }\n\n  \n  var js_urls = [\"https://cdn.bokeh.org/bokeh/release/bokeh-2.2.3.min.js\", \"https://cdn.bokeh.org/bokeh/release/bokeh-widgets-2.2.3.min.js\", \"https://cdn.bokeh.org/bokeh/release/bokeh-tables-2.2.3.min.js\"];\n  var css_urls = [];\n  \n\n  var inline_js = [\n    function(Bokeh) {\n      Bokeh.set_log_level(\"info\");\n    },\n    function(Bokeh) {\n    \n    \n    }\n  ];\n\n  function run_inline_js() {\n    \n    if (root.Bokeh !== undefined || force === true) {\n      \n    for (var i = 0; i < inline_js.length; i++) {\n      inline_js[i].call(root, root.Bokeh);\n    }\n    if (force === true) {\n        display_loaded();\n      }} else if (Date.now() < root._bokeh_timeout) {\n      setTimeout(run_inline_js, 100);\n    } else if (!root._bokeh_failed_load) {\n      console.log(\"Bokeh: BokehJS failed to load within specified timeout.\");\n      root._bokeh_failed_load = true;\n    } else if (force !== true) {\n      var cell = $(document.getElementById(\"1001\")).parents('.cell').data().cell;\n      cell.output_area.append_execute_result(NB_LOAD_WARNING)\n    }\n\n  }\n\n  if (root._bokeh_is_loading === 0) {\n    console.debug(\"Bokeh: BokehJS loaded, going straight to plotting\");\n    run_inline_js();\n  } else {\n    load_libs(css_urls, js_urls, function() {\n      console.debug(\"Bokeh: BokehJS plotting callback run at\", now());\n      run_inline_js();\n    });\n  }\n}(window));",
            "application/vnd.bokehjs_load.v0+json": "\n(function(root) {\n  function now() {\n    return new Date();\n  }\n\n  var force = true;\n\n  if (typeof root._bokeh_onload_callbacks === \"undefined\" || force === true) {\n    root._bokeh_onload_callbacks = [];\n    root._bokeh_is_loading = undefined;\n  }\n\n  \n\n  \n  if (typeof (root._bokeh_timeout) === \"undefined\" || force === true) {\n    root._bokeh_timeout = Date.now() + 5000;\n    root._bokeh_failed_load = false;\n  }\n\n  var NB_LOAD_WARNING = {'data': {'text/html':\n     \"<div style='background-color: #fdd'>\\n\"+\n     \"<p>\\n\"+\n     \"BokehJS does not appear to have successfully loaded. If loading BokehJS from CDN, this \\n\"+\n     \"may be due to a slow or bad network connection. Possible fixes:\\n\"+\n     \"</p>\\n\"+\n     \"<ul>\\n\"+\n     \"<li>re-rerun `output_notebook()` to attempt to load from CDN again, or</li>\\n\"+\n     \"<li>use INLINE resources instead, as so:</li>\\n\"+\n     \"</ul>\\n\"+\n     \"<code>\\n\"+\n     \"from bokeh.resources import INLINE\\n\"+\n     \"output_notebook(resources=INLINE)\\n\"+\n     \"</code>\\n\"+\n     \"</div>\"}};\n\n  function display_loaded() {\n    var el = document.getElementById(\"1001\");\n    if (el != null) {\n      el.textContent = \"BokehJS is loading...\";\n    }\n    if (root.Bokeh !== undefined) {\n      if (el != null) {\n        el.textContent = \"BokehJS \" + root.Bokeh.version + \" successfully loaded.\";\n      }\n    } else if (Date.now() < root._bokeh_timeout) {\n      setTimeout(display_loaded, 100)\n    }\n  }\n\n\n  function run_callbacks() {\n    try {\n      root._bokeh_onload_callbacks.forEach(function(callback) {\n        if (callback != null)\n          callback();\n      });\n    } finally {\n      delete root._bokeh_onload_callbacks\n    }\n    console.debug(\"Bokeh: all callbacks have finished\");\n  }\n\n  function load_libs(css_urls, js_urls, callback) {\n    if (css_urls == null) css_urls = [];\n    if (js_urls == null) js_urls = [];\n\n    root._bokeh_onload_callbacks.push(callback);\n    if (root._bokeh_is_loading > 0) {\n      console.debug(\"Bokeh: BokehJS is being loaded, scheduling callback at\", now());\n      return null;\n    }\n    if (js_urls == null || js_urls.length === 0) {\n      run_callbacks();\n      return null;\n    }\n    console.debug(\"Bokeh: BokehJS not loaded, scheduling load and callback at\", now());\n    root._bokeh_is_loading = css_urls.length + js_urls.length;\n\n    function on_load() {\n      root._bokeh_is_loading--;\n      if (root._bokeh_is_loading === 0) {\n        console.debug(\"Bokeh: all BokehJS libraries/stylesheets loaded\");\n        run_callbacks()\n      }\n    }\n\n    function on_error() {\n      console.error(\"failed to load \" + url);\n    }\n\n    for (var i = 0; i < css_urls.length; i++) {\n      var url = css_urls[i];\n      const element = document.createElement(\"link\");\n      element.onload = on_load;\n      element.onerror = on_error;\n      element.rel = \"stylesheet\";\n      element.type = \"text/css\";\n      element.href = url;\n      console.debug(\"Bokeh: injecting link tag for BokehJS stylesheet: \", url);\n      document.body.appendChild(element);\n    }\n\n    const hashes = {\"https://cdn.bokeh.org/bokeh/release/bokeh-2.2.3.min.js\": \"T2yuo9Oe71Cz/I4X9Ac5+gpEa5a8PpJCDlqKYO0CfAuEszu1JrXLl8YugMqYe3sM\", \"https://cdn.bokeh.org/bokeh/release/bokeh-widgets-2.2.3.min.js\": \"98GDGJ0kOMCUMUePhksaQ/GYgB3+NH9h996V88sh3aOiUNX3N+fLXAtry6xctSZ6\", \"https://cdn.bokeh.org/bokeh/release/bokeh-tables-2.2.3.min.js\": \"89bArO+nlbP3sgakeHjCo1JYxYR5wufVgA3IbUvDY+K7w4zyxJqssu7wVnfeKCq8\"};\n\n    for (var i = 0; i < js_urls.length; i++) {\n      var url = js_urls[i];\n      var element = document.createElement('script');\n      element.onload = on_load;\n      element.onerror = on_error;\n      element.async = false;\n      element.src = url;\n      if (url in hashes) {\n        element.crossOrigin = \"anonymous\";\n        element.integrity = \"sha384-\" + hashes[url];\n      }\n      console.debug(\"Bokeh: injecting script tag for BokehJS library: \", url);\n      document.head.appendChild(element);\n    }\n  };\n\n  function inject_raw_css(css) {\n    const element = document.createElement(\"style\");\n    element.appendChild(document.createTextNode(css));\n    document.body.appendChild(element);\n  }\n\n  \n  var js_urls = [\"https://cdn.bokeh.org/bokeh/release/bokeh-2.2.3.min.js\", \"https://cdn.bokeh.org/bokeh/release/bokeh-widgets-2.2.3.min.js\", \"https://cdn.bokeh.org/bokeh/release/bokeh-tables-2.2.3.min.js\"];\n  var css_urls = [];\n  \n\n  var inline_js = [\n    function(Bokeh) {\n      Bokeh.set_log_level(\"info\");\n    },\n    function(Bokeh) {\n    \n    \n    }\n  ];\n\n  function run_inline_js() {\n    \n    if (root.Bokeh !== undefined || force === true) {\n      \n    for (var i = 0; i < inline_js.length; i++) {\n      inline_js[i].call(root, root.Bokeh);\n    }\n    if (force === true) {\n        display_loaded();\n      }} else if (Date.now() < root._bokeh_timeout) {\n      setTimeout(run_inline_js, 100);\n    } else if (!root._bokeh_failed_load) {\n      console.log(\"Bokeh: BokehJS failed to load within specified timeout.\");\n      root._bokeh_failed_load = true;\n    } else if (force !== true) {\n      var cell = $(document.getElementById(\"1001\")).parents('.cell').data().cell;\n      cell.output_area.append_execute_result(NB_LOAD_WARNING)\n    }\n\n  }\n\n  if (root._bokeh_is_loading === 0) {\n    console.debug(\"Bokeh: BokehJS loaded, going straight to plotting\");\n    run_inline_js();\n  } else {\n    load_libs(css_urls, js_urls, function() {\n      console.debug(\"Bokeh: BokehJS plotting callback run at\", now());\n      run_inline_js();\n    });\n  }\n}(window));"
          },
          "metadata": {}
        }
      ],
      "execution_count": 1,
      "metadata": {
        "collapsed": false,
        "execution": {
          "iopub.status.busy": "2020-12-17T08:51:50.768Z",
          "iopub.execute_input": "2020-12-17T08:51:50.803Z",
          "iopub.status.idle": "2020-12-17T08:52:41.406Z",
          "shell.execute_reply": "2020-12-17T08:52:41.735Z"
        }
      }
    },
    {
      "cell_type": "markdown",
      "source": [
        "Because this tutorial consists mainly of a list of probability distributions and their stories and properties, it is useful to have a little index of them up front.\n",
        "\n",
        "* [Discrete distributions](#Discrete-distributions)\n",
        "    - [Bernoulli distribution](#Bernoulli-distribution)\n",
        "    - [Geometric distribution](#Geometric-distribution)\n",
        "    - [Negative Binomial distribution](#Negative-Binomial-distribution)\n",
        "    - [Binomial distribution](#Binomial-distribution)\n",
        "    - [Hypergeometric distribution](#Hypergeometric-distribution)\n",
        "* [Continuous distributions](#Continuous-distributions)\n",
        "    - [Uniform distribution](#Uniform-distribution)\n",
        "    - [Gaussian (a.k.a. Normal) distribution](#Gaussian--(a.k.a.-Normal)-distribution)\n",
        "    - [Log-Normal distribution](#Log-Normal-distribution)\n",
        "    - [Von Mises distribution](#Von-Mises-distribution)\n",
        "    - [Chi-square distribution](#Chi-square-distribution)\n",
        "    - [Student-t/Cauchy distribution](#Student-t/Cauchy-distribution)\n",
        "    - [Exponential distribution](#Exponential-distribution)\n",
        "    - [Gamma distribution](#Gamma-distribution)\n",
        "    - [Weibull distribution](#Weibull-distribution)"
      ],
      "metadata": {}
    },
    {
      "cell_type": "markdown",
      "source": [
        "We have talked about the three levels of building a model in the\n",
        "biological sciences.\n",
        "* **Cartoon model**: A cartoon or verbal phenomenological\n",
        "  description of the system of interest.\n",
        "* **Mathemtical model**: A mathematization of a cartoon model. This gives quantitative predictions on how a biological system should behave.\n",
        "* **Statistical model**: A description of what we expect from an\n",
        "  experiment, given our model mathematical.  In the Bayesian context, this is\n",
        "  specification of the likelihood and prior.\n",
        "\n",
        "We have talked briefly about specifying priors.  We endeavor to be uninformative when we do not know much about model parameters or about the hypothesis in question. We will be a bit sloppy in our prior formulation knowing that if we are sufficiently uninformative and we have enough data, the prior has little impact on the posterior.\n",
        "\n",
        "To specify a likelihood, we need to be careful, as this is very much\n",
        "at the heart of our model.  Specifying the likelihood amounts to\n",
        "choosing a probability distribution that describes how the data will\n",
        "look under your model.  In many cases, you need to derive the\n",
        "likelihood (or even numerically compute it when it cannot be written\n",
        "in closed form).  In many practical cases, though, the choice of\n",
        "likelihood is among standard probability distributions.  These\n",
        "distributions all have **stories** associated with them.  Importantly, *if your data\n",
        "and model match the story of a distribution, you know that this is the\n",
        "distribution to choose for your likelihood.*"
      ],
      "metadata": {}
    },
    {
      "cell_type": "markdown",
      "source": [
        "## Review of probability distributions\n",
        "\n",
        "Before we begin talking about distributions, let's remind ourselves\n",
        "what probability distributions are.  We cut some corners in our\n",
        "definitions here, but these definitions are functional for most of our\n",
        "data analysis purposes.\n",
        "\n",
        "A **probability mass function** (PMF), $P(x)$, describes the\n",
        "probability of a discrete variable obtaining value $x$.  The variable\n",
        "$x$ takes on discrete values, so the **normalization condition**\n",
        "is\n",
        "\n",
        "$\\begin{align}\n",
        "\\sum_x P(x) = 1.\n",
        "\\end{align}$\n",
        "\n",
        "A **probability density function** (PDF), which we shall\n",
        "also call $P(x)$, is defined such that the probability that a\n",
        "continuous variable $x$ is $a \\le x \\le b$ is\n",
        "\n",
        "$\\begin{align}\n",
        "\\int_a^b \\mathrm{d}x\\,P(x).\n",
        "\\end{align}$\n",
        "\n",
        "A **cumulative distribution function** (CDF), denoted $F(x)$ is defined such that $F(x)$ is the probability that a variable $X$ is less than or equal to $x$."
      ],
      "metadata": {}
    },
    {
      "cell_type": "markdown",
      "source": [
        "### Moments\n",
        "\n",
        "Probability distributions **moments**.  The way they are defined can\n",
        "vary, but we will define the $n$th moment computed from a PMF as\n",
        "\n",
        "$\\begin{align}\n",
        "\\left\\langle x^n \\right\\rangle = \\sum_i x_i^n P(x_i),\n",
        "\\end{align}$\n",
        "\n",
        "and computed from a PDF as\n",
        "\n",
        "$\\begin{align}\n",
        "\\left\\langle x^n \\right\\rangle = \\int \\mathrm{d}x\\, x^n P(x).\n",
        "\\end{align}$\n",
        "\n",
        "These moments are often used to compute summary statistics.\n",
        "\n",
        "$\\begin{align}\n",
        "\\text{mean} &= \\langle x \\rangle \\\\[1em]\n",
        "\\text{variance} &= \\left\\langle x^2 \\right\\rangle - \\langle x \\rangle^2\n",
        "= \\left\\langle(x - \\langle x \\rangle)^2 \\right\\rangle \\\\[1em]\n",
        "\\text{skew} &= \\frac{\\left\\langle(x - \\langle x \\rangle)^3 \\right\\rangle}\n",
        "{\\left\\langle(x - \\langle x \\rangle)^2 \\right\\rangle^{\\frac{3}{2}}} \\\\[1em]\n",
        "\\text{Pearson kurtosis} &= \\frac{\\left\\langle(x - \\langle x \\rangle)^4 \\right\\rangle}\n",
        "{\\left\\langle(x - \\langle x \\rangle)^2 \\right\\rangle^2} \\\\[1em]\n",
        "\\text{Fisher kurtosis} &= \\frac{\\left\\langle(x - \\langle x \\rangle)^4 \\right\\rangle}\n",
        "{\\left\\langle(x - \\langle x \\rangle)^2 \\right\\rangle^2} - 3.\n",
        "\\end{align}$\n",
        "\n",
        "We will present PMFs, PDFs, and CDFs for distributions below.  We only show\n",
        "the univariate forms; the multivariate versions are easily derived or\n",
        "looked up."
      ],
      "metadata": {}
    },
    {
      "cell_type": "markdown",
      "source": [
        "### Sampling\n",
        "\n",
        "Given that we know a probability distribution, we can take\n",
        "*samples* out of it.  This means that we can randomly draw\n",
        "numbers and the probability that we draw a certain number $x$ is\n",
        "proportional to the PMF or PDF, $P(x)$.  As we will soon discover in the course, sampling\n",
        "out of a distribution is often easier than computing the distribution\n",
        "over a range of values because many of those values are zero. "
      ],
      "metadata": {}
    },
    {
      "cell_type": "markdown",
      "source": [
        "## Distributions and their stories\n",
        "\n",
        "In what follows, I will present some commonly used probability distributions and their associated stories. For each distribution, I will give the name of the distribution, its story, its parameters, a biological example that follows this distribution, expressions for the PDF or PMF and CDF, as well as plots of these. Along the way, we'll define other terms, such as **Bernoulli trial** and **Poisson process**. I will use the `scipy.stats` module (imported as `st`) to compute the PDF/PMF and CDF. The API for this module will be apparent as I use it.\n",
        "\n",
        "Before we begin, I'll write some functions to generate the distributions for plotting. For this tutorial, I'll use Bokeh."
      ],
      "metadata": {}
    },
    {
      "cell_type": "code",
      "source": [
        "def plot_pmf(p, x, dist, params, **kwargs):\n",
        "    \"\"\"\n",
        "    Generate plot of PMF at specified values of x.\n",
        "    \"\"\"\n",
        "    y = dist.pmf(x, *params, **kwargs)\n",
        "    p.circle(x, y, size=7, color='dodgerblue')\n",
        "    p.segment(x0=x, x1=x, y0=0, y1=y, line_width=3, color='dodgerblue')\n",
        "    return p"
      ],
      "outputs": [],
      "execution_count": 4,
      "metadata": {
        "collapsed": true,
        "execution": {
          "iopub.status.busy": "2020-12-17T08:52:59.093Z",
          "iopub.execute_input": "2020-12-17T08:52:59.116Z",
          "iopub.status.idle": "2020-12-17T08:52:59.159Z",
          "shell.execute_reply": "2020-12-17T08:52:59.193Z"
        }
      }
    },
    {
      "cell_type": "code",
      "source": [
        "\n",
        "def plot_pdf(p, x, dist, params, **kwargs):\n",
        "    \"\"\"\n",
        "    Generate plot of PDF at specified values of x.\n",
        "    \"\"\"\n",
        "    y = dist.pdf(x, *params, **kwargs)\n",
        "    p.line(x, y, line_width=3, color='dodgerblue')\n",
        "    return p"
      ],
      "outputs": [],
      "execution_count": 3,
      "metadata": {
        "collapsed": true,
        "jupyter": {
          "source_hidden": false,
          "outputs_hidden": false
        },
        "nteract": {
          "transient": {
            "deleting": false
          }
        },
        "execution": {
          "iopub.status.busy": "2020-12-17T08:52:57.060Z",
          "iopub.execute_input": "2020-12-17T08:52:57.091Z",
          "iopub.status.idle": "2020-12-17T08:52:57.139Z",
          "shell.execute_reply": "2020-12-17T08:52:57.170Z"
        }
      }
    },
    {
      "cell_type": "code",
      "source": [
        "def plot_discrete_cdf(p, x, dist, params, show_segments=False, **kwargs):\n",
        "    \"\"\"\n",
        "    Plot CDF of discrete distribution.\n",
        "    \"\"\"\n",
        "    y = dist.cdf(x, *params, **kwargs)\n",
        "    if show_segments:\n",
        "        p.circle(x[:-1], y[:-1], size=7, color='dodgerblue')\n",
        "        p.segment(x0=x[:-1], x1=x[1:], y0=y[:-1], y1=y[:-1], line_width=3,\n",
        "                  color='dodgerblue')\n",
        "    else:\n",
        "        p.circle(x, y, size=7, color='dodgerblue')\n",
        "    return p"
      ],
      "outputs": [],
      "execution_count": 5,
      "metadata": {
        "collapsed": true,
        "jupyter": {
          "source_hidden": false,
          "outputs_hidden": false
        },
        "nteract": {
          "transient": {
            "deleting": false
          }
        },
        "execution": {
          "shell.execute_reply": "2020-12-17T08:53:01.108Z",
          "iopub.status.busy": "2020-12-17T08:53:00.957Z",
          "iopub.execute_input": "2020-12-17T08:53:00.985Z",
          "iopub.status.idle": "2020-12-17T08:53:01.032Z"
        }
      }
    },
    {
      "cell_type": "code",
      "source": [
        "def plot_continuous_cdf(p, x, dist, params, **kwargs):\n",
        "    \"\"\"\n",
        "    Plot CDF of continuous distribution.\n",
        "    \"\"\"\n",
        "    y = dist.cdf(x, *params, **kwargs)\n",
        "    p.line(x, y, line_width=3, color='dodgerblue')\n",
        "    return p"
      ],
      "outputs": [],
      "execution_count": 6,
      "metadata": {
        "collapsed": true,
        "jupyter": {
          "source_hidden": false,
          "outputs_hidden": false
        },
        "nteract": {
          "transient": {
            "deleting": false
          }
        },
        "execution": {
          "shell.execute_reply": "2020-12-17T08:53:02.506Z",
          "iopub.status.busy": "2020-12-17T08:53:02.365Z",
          "iopub.execute_input": "2020-12-17T08:53:02.407Z",
          "iopub.status.idle": "2020-12-17T08:53:02.471Z"
        }
      }
    },
    {
      "cell_type": "code",
      "source": [
        "def plot_dists(x, dist, params, param_names, dist_name, **kwargs):\n",
        "    \"\"\"\n",
        "    Plot PDF/PMF and CDF next to each other.\n",
        "    \"\"\"\n",
        "    # Tools for plots\n",
        "    tools='pan,wheel_zoom,reset'\n",
        "    \n",
        "    # Title for plots\n",
        "    t1 = dist_name + ', ' \\\n",
        "            + ''.join([param_names[i] + ' = ' + str(params[i]) + ', ' \n",
        "                                      for i in range(len(params) - 1)])\n",
        "    t1 += param_names[-1] + ' = ' + str(params[-1])\n",
        "    \n",
        "    # Last half of y-axis label\n",
        "    ylabel = ''.join(pname + ', ' for pname in param_names[:-1])\n",
        "    ylabel += param_names[-1] + ')'\n",
        "    \n",
        "    # Set up plots\n",
        "    p1 = bokeh.plotting.figure(width=325, height=250, tools=tools, title=t1)\n",
        "    p2 = bokeh.plotting.figure(width=325, height=250, tools=tools, \n",
        "                               y_range=[-0.05, 1.05])\n",
        "\n",
        "    # Make plots\n",
        "    if hasattr(dist, 'pmf'):\n",
        "        p1 = plot_pmf(p1, x, dist, params, **kwargs)\n",
        "        p1.xaxis.axis_label = 'k'\n",
        "        p1.yaxis.axis_label = 'P(k; ' + ylabel\n",
        "        p2 = plot_discrete_cdf(p2, x, dist, params, **kwargs)\n",
        "        p2.xaxis.axis_label = 'k'\n",
        "        p2.yaxis.axis_label = 'F(k; ' + ylabel\n",
        "    else:\n",
        "        p1 = plot_pdf(p1, x, dist, params, **kwargs)\n",
        "        p1.xaxis.axis_label = 'x'\n",
        "        p1.yaxis.axis_label = 'P(x; ' + ylabel\n",
        "        p2.yaxis.axis_label = 'F(x; ' + ylabel\n",
        "        p2 = plot_continuous_cdf(p2, x, dist, params, **kwargs)\n",
        "        p2.xaxis.axis_label = 'x'\n",
        "        p2.yaxis.axis_label = 'F(k; ' + ylabel\n",
        "        \n",
        "    # Link the x-axes\n",
        "    p1.x_range = p2.x_range\n",
        "\n",
        "    return bokeh.layouts.row([p1, p2])"
      ],
      "outputs": [],
      "execution_count": 7,
      "metadata": {
        "collapsed": true,
        "jupyter": {
          "source_hidden": false,
          "outputs_hidden": false
        },
        "nteract": {
          "transient": {
            "deleting": false
          }
        },
        "execution": {
          "iopub.status.busy": "2020-12-17T08:53:03.537Z",
          "iopub.execute_input": "2020-12-17T08:53:03.562Z",
          "iopub.status.idle": "2020-12-17T08:53:03.603Z",
          "shell.execute_reply": "2020-12-17T08:53:03.638Z"
        }
      }
    },
    {
      "cell_type": "markdown",
      "source": [
        "With these in place, we now describe some useful named distributions. For each, I will give the mathematical form of the PDF or PMF, but will omit the the CDF because they are often expressed as special functions, but as regularized incomplete beta functions or error functions. Remember that in general, for a discrete distribution\n",
        "\n",
        "$\\begin{align}\n",
        "F(k) = \\sum_{k'=k_\\mathrm{min}}^k P(k'),\n",
        "\\end{align}$\n",
        "\n",
        "and for a continuous distribution,\n",
        "\n",
        "$\\begin{align}\n",
        "F(x) = \\int_{-\\infty}^x \\mathrm{d}x'\\,P(x').\n",
        "\\end{align}$\n",
        "\n",
        "I do plot the CDF for each distribution."
      ],
      "metadata": {}
    },
    {
      "cell_type": "markdown",
      "source": [
        "## Discrete distributions"
      ],
      "metadata": {}
    },
    {
      "cell_type": "markdown",
      "source": [
        "### Bernoulli distribution\n",
        "\n",
        "**Story.** A single trial with either a success (`k = True`) or\n",
        "failure (`k=False`) is performed. Such a trial is called a *Bernoulli trial*.  The Bernoulli distribution defines the probability of getting each outcome.\n",
        "\n",
        "**Parameter.** The Bernoulli distribution is parametrized by a\n",
        "single value, $p$, the probability that the trial is successful.\n",
        "These trials are called *Bernoulli trials*.\n",
        "\n",
        "**Example.** Check to see if a given bacterium is competent, given that it has probability $p$ of being competent.\n",
        "\n",
        "**Probability mass function.**\n",
        "\n",
        "$\\begin{align}\n",
        "P(k;p) = \\left\\{ \\begin{array}{ccc}\n",
        "1-p & & k = 0 \\\\[0.5em]\n",
        "p & & k = 1 \\\\[0.5em]\n",
        "0 & & \\text{otherwise.}\n",
        "\\end{array}\n",
        "\\right.\n",
        "\\end{align}$"
      ],
      "metadata": {}
    },
    {
      "cell_type": "code",
      "source": [
        "k = np.array([0, 1])\n",
        "p = plot_dists(k, st.bernoulli, (0.4,), ('p',), 'Bernoulli')\n",
        "bokeh.io.show(p)"
      ],
      "outputs": [
        {
          "output_type": "display_data",
          "data": {
            "text/html": "\n\n\n\n\n\n  <div class=\"bk-root\" id=\"75702f79-5490-44cb-baf1-1aa5df05372f\" data-root-id=\"1067\"></div>\n"
          },
          "metadata": {}
        },
        {
          "output_type": "display_data",
          "data": {
            "application/javascript": "(function(root) {\n  function embed_document(root) {\n    \n  var docs_json = {\"7b4fb8d9-4c1e-41ff-ad6a-b21d5e9b8238\":{\"roots\":{\"references\":[{\"attributes\":{\"children\":[{\"id\":\"1002\"},{\"id\":\"1028\"}]},\"id\":\"1067\",\"type\":\"Row\"},{\"attributes\":{\"fill_color\":{\"value\":\"dodgerblue\"},\"line_color\":{\"value\":\"dodgerblue\"},\"size\":{\"units\":\"screen\",\"value\":7},\"x\":{\"field\":\"x\"},\"y\":{\"field\":\"y\"}},\"id\":\"1053\",\"type\":\"Circle\"},{\"attributes\":{},\"id\":\"1045\",\"type\":\"PanTool\"},{\"attributes\":{\"source\":{\"id\":\"1062\"}},\"id\":\"1066\",\"type\":\"CDSView\"},{\"attributes\":{},\"id\":\"1046\",\"type\":\"WheelZoomTool\"},{\"attributes\":{},\"id\":\"1035\",\"type\":\"LinearScale\"},{\"attributes\":{},\"id\":\"1047\",\"type\":\"ResetTool\"},{\"attributes\":{\"data_source\":{\"id\":\"1062\"},\"glyph\":{\"id\":\"1063\"},\"hover_glyph\":null,\"muted_glyph\":null,\"nonselection_glyph\":{\"id\":\"1064\"},\"selection_glyph\":null,\"view\":{\"id\":\"1066\"}},\"id\":\"1065\",\"type\":\"GlyphRenderer\"},{\"attributes\":{\"axis\":{\"id\":\"1037\"},\"ticker\":null},\"id\":\"1040\",\"type\":\"Grid\"},{\"attributes\":{},\"id\":\"1029\",\"type\":\"DataRange1d\"},{\"attributes\":{\"text\":\"\"},\"id\":\"1069\",\"type\":\"Title\"},{\"attributes\":{\"axis_label\":\"k\",\"formatter\":{\"id\":\"1077\"},\"ticker\":{\"id\":\"1038\"}},\"id\":\"1037\",\"type\":\"LinearAxis\"},{\"attributes\":{\"active_drag\":\"auto\",\"active_inspect\":\"auto\",\"active_multi\":null,\"active_scroll\":\"auto\",\"active_tap\":\"auto\",\"tools\":[{\"id\":\"1021\"},{\"id\":\"1022\"},{\"id\":\"1023\"}]},\"id\":\"1024\",\"type\":\"Toolbar\"},{\"attributes\":{\"line_color\":{\"value\":\"dodgerblue\"},\"line_width\":{\"value\":3},\"x0\":{\"field\":\"x0\"},\"x1\":{\"field\":\"x1\"},\"y0\":{\"value\":0},\"y1\":{\"field\":\"y1\"}},\"id\":\"1058\",\"type\":\"Segment\"},{\"attributes\":{\"active_drag\":\"auto\",\"active_inspect\":\"auto\",\"active_multi\":null,\"active_scroll\":\"auto\",\"active_tap\":\"auto\",\"tools\":[{\"id\":\"1045\"},{\"id\":\"1046\"},{\"id\":\"1047\"}]},\"id\":\"1048\",\"type\":\"Toolbar\"},{\"attributes\":{},\"id\":\"1071\",\"type\":\"BasicTickFormatter\"},{\"attributes\":{},\"id\":\"1038\",\"type\":\"BasicTicker\"},{\"attributes\":{\"text\":\"Bernoulli, p = 0.4\"},\"id\":\"1003\",\"type\":\"Title\"},{\"attributes\":{},\"id\":\"1023\",\"type\":\"ResetTool\"},{\"attributes\":{},\"id\":\"1073\",\"type\":\"BasicTickFormatter\"},{\"attributes\":{\"data_source\":{\"id\":\"1057\"},\"glyph\":{\"id\":\"1058\"},\"hover_glyph\":null,\"muted_glyph\":null,\"nonselection_glyph\":{\"id\":\"1059\"},\"selection_glyph\":null,\"view\":{\"id\":\"1061\"}},\"id\":\"1060\",\"type\":\"GlyphRenderer\"},{\"attributes\":{},\"id\":\"1075\",\"type\":\"BasicTickFormatter\"},{\"attributes\":{\"source\":{\"id\":\"1057\"}},\"id\":\"1061\",\"type\":\"CDSView\"},{\"attributes\":{},\"id\":\"1022\",\"type\":\"WheelZoomTool\"},{\"attributes\":{\"below\":[{\"id\":\"1037\"}],\"center\":[{\"id\":\"1040\"},{\"id\":\"1044\"}],\"left\":[{\"id\":\"1041\"}],\"plot_height\":250,\"plot_width\":325,\"renderers\":[{\"id\":\"1065\"}],\"title\":{\"id\":\"1069\"},\"toolbar\":{\"id\":\"1048\"},\"x_range\":{\"id\":\"1029\"},\"x_scale\":{\"id\":\"1033\"},\"y_range\":{\"id\":\"1031\"},\"y_scale\":{\"id\":\"1035\"}},\"id\":\"1028\",\"subtype\":\"Figure\",\"type\":\"Plot\"},{\"attributes\":{},\"id\":\"1077\",\"type\":\"BasicTickFormatter\"},{\"attributes\":{\"axis_label\":\"F(k; p)\",\"formatter\":{\"id\":\"1075\"},\"ticker\":{\"id\":\"1042\"}},\"id\":\"1041\",\"type\":\"LinearAxis\"},{\"attributes\":{},\"id\":\"1021\",\"type\":\"PanTool\"},{\"attributes\":{},\"id\":\"1042\",\"type\":\"BasicTicker\"},{\"attributes\":{},\"id\":\"1079\",\"type\":\"UnionRenderers\"},{\"attributes\":{},\"id\":\"1009\",\"type\":\"LinearScale\"},{\"attributes\":{\"below\":[{\"id\":\"1013\"}],\"center\":[{\"id\":\"1016\"},{\"id\":\"1020\"}],\"left\":[{\"id\":\"1017\"}],\"plot_height\":250,\"plot_width\":325,\"renderers\":[{\"id\":\"1055\"},{\"id\":\"1060\"}],\"title\":{\"id\":\"1003\"},\"toolbar\":{\"id\":\"1024\"},\"x_range\":{\"id\":\"1029\"},\"x_scale\":{\"id\":\"1009\"},\"y_range\":{\"id\":\"1007\"},\"y_scale\":{\"id\":\"1011\"}},\"id\":\"1002\",\"subtype\":\"Figure\",\"type\":\"Plot\"},{\"attributes\":{\"axis\":{\"id\":\"1017\"},\"dimension\":1,\"ticker\":null},\"id\":\"1020\",\"type\":\"Grid\"},{\"attributes\":{\"axis\":{\"id\":\"1041\"},\"dimension\":1,\"ticker\":null},\"id\":\"1044\",\"type\":\"Grid\"},{\"attributes\":{},\"id\":\"1080\",\"type\":\"Selection\"},{\"attributes\":{\"axis_label\":\"k\",\"formatter\":{\"id\":\"1073\"},\"ticker\":{\"id\":\"1014\"}},\"id\":\"1013\",\"type\":\"LinearAxis\"},{\"attributes\":{},\"id\":\"1018\",\"type\":\"BasicTicker\"},{\"attributes\":{},\"id\":\"1081\",\"type\":\"UnionRenderers\"},{\"attributes\":{},\"id\":\"1007\",\"type\":\"DataRange1d\"},{\"attributes\":{\"data\":{\"x0\":{\"__ndarray__\":\"AAAAAAEAAAA=\",\"dtype\":\"int32\",\"order\":\"little\",\"shape\":[2]},\"x1\":{\"__ndarray__\":\"AAAAAAEAAAA=\",\"dtype\":\"int32\",\"order\":\"little\",\"shape\":[2]},\"y1\":{\"__ndarray__\":\"MzMzMzMz4z+amZmZmZnZPw==\",\"dtype\":\"float64\",\"order\":\"little\",\"shape\":[2]}},\"selected\":{\"id\":\"1082\"},\"selection_policy\":{\"id\":\"1081\"}},\"id\":\"1057\",\"type\":\"ColumnDataSource\"},{\"attributes\":{},\"id\":\"1082\",\"type\":\"Selection\"},{\"attributes\":{},\"id\":\"1014\",\"type\":\"BasicTicker\"},{\"attributes\":{},\"id\":\"1011\",\"type\":\"LinearScale\"},{\"attributes\":{\"axis\":{\"id\":\"1013\"},\"ticker\":null},\"id\":\"1016\",\"type\":\"Grid\"},{\"attributes\":{},\"id\":\"1083\",\"type\":\"UnionRenderers\"},{\"attributes\":{\"axis_label\":\"P(k; p)\",\"formatter\":{\"id\":\"1071\"},\"ticker\":{\"id\":\"1018\"}},\"id\":\"1017\",\"type\":\"LinearAxis\"},{\"attributes\":{\"source\":{\"id\":\"1052\"}},\"id\":\"1056\",\"type\":\"CDSView\"},{\"attributes\":{\"line_alpha\":{\"value\":0.1},\"line_color\":{\"value\":\"dodgerblue\"},\"line_width\":{\"value\":3},\"x0\":{\"field\":\"x0\"},\"x1\":{\"field\":\"x1\"},\"y0\":{\"value\":0},\"y1\":{\"field\":\"y1\"}},\"id\":\"1059\",\"type\":\"Segment\"},{\"attributes\":{},\"id\":\"1084\",\"type\":\"Selection\"},{\"attributes\":{\"data_source\":{\"id\":\"1052\"},\"glyph\":{\"id\":\"1053\"},\"hover_glyph\":null,\"muted_glyph\":null,\"nonselection_glyph\":{\"id\":\"1054\"},\"selection_glyph\":null,\"view\":{\"id\":\"1056\"}},\"id\":\"1055\",\"type\":\"GlyphRenderer\"},{\"attributes\":{\"fill_alpha\":{\"value\":0.1},\"fill_color\":{\"value\":\"dodgerblue\"},\"line_alpha\":{\"value\":0.1},\"line_color\":{\"value\":\"dodgerblue\"},\"size\":{\"units\":\"screen\",\"value\":7},\"x\":{\"field\":\"x\"},\"y\":{\"field\":\"y\"}},\"id\":\"1054\",\"type\":\"Circle\"},{\"attributes\":{\"data\":{\"x\":{\"__ndarray__\":\"AAAAAAEAAAA=\",\"dtype\":\"int32\",\"order\":\"little\",\"shape\":[2]},\"y\":{\"__ndarray__\":\"MzMzMzMz4z+amZmZmZnZPw==\",\"dtype\":\"float64\",\"order\":\"little\",\"shape\":[2]}},\"selected\":{\"id\":\"1080\"},\"selection_policy\":{\"id\":\"1079\"}},\"id\":\"1052\",\"type\":\"ColumnDataSource\"},{\"attributes\":{\"data\":{\"x\":{\"__ndarray__\":\"AAAAAAEAAAA=\",\"dtype\":\"int32\",\"order\":\"little\",\"shape\":[2]},\"y\":{\"__ndarray__\":\"MzMzMzMz4z8AAAAAAADwPw==\",\"dtype\":\"float64\",\"order\":\"little\",\"shape\":[2]}},\"selected\":{\"id\":\"1084\"},\"selection_policy\":{\"id\":\"1083\"}},\"id\":\"1062\",\"type\":\"ColumnDataSource\"},{\"attributes\":{\"end\":1.05,\"start\":-0.05},\"id\":\"1031\",\"type\":\"Range1d\"},{\"attributes\":{\"fill_color\":{\"value\":\"dodgerblue\"},\"line_color\":{\"value\":\"dodgerblue\"},\"size\":{\"units\":\"screen\",\"value\":7},\"x\":{\"field\":\"x\"},\"y\":{\"field\":\"y\"}},\"id\":\"1063\",\"type\":\"Circle\"},{\"attributes\":{},\"id\":\"1033\",\"type\":\"LinearScale\"},{\"attributes\":{\"fill_alpha\":{\"value\":0.1},\"fill_color\":{\"value\":\"dodgerblue\"},\"line_alpha\":{\"value\":0.1},\"line_color\":{\"value\":\"dodgerblue\"},\"size\":{\"units\":\"screen\",\"value\":7},\"x\":{\"field\":\"x\"},\"y\":{\"field\":\"y\"}},\"id\":\"1064\",\"type\":\"Circle\"}],\"root_ids\":[\"1067\"]},\"title\":\"Bokeh Application\",\"version\":\"2.2.3\"}};\n  var render_items = [{\"docid\":\"7b4fb8d9-4c1e-41ff-ad6a-b21d5e9b8238\",\"root_ids\":[\"1067\"],\"roots\":{\"1067\":\"75702f79-5490-44cb-baf1-1aa5df05372f\"}}];\n  root.Bokeh.embed.embed_items_notebook(docs_json, render_items);\n\n  }\n  if (root.Bokeh !== undefined) {\n    embed_document(root);\n  } else {\n    var attempts = 0;\n    var timer = setInterval(function(root) {\n      if (root.Bokeh !== undefined) {\n        clearInterval(timer);\n        embed_document(root);\n      } else {\n        attempts++;\n        if (attempts > 100) {\n          clearInterval(timer);\n          console.log(\"Bokeh: ERROR: Unable to run BokehJS code because BokehJS library is missing\");\n        }\n      }\n    }, 10, root)\n  }\n})(window);",
            "application/vnd.bokehjs_exec.v0+json": ""
          },
          "metadata": {
            "application/vnd.bokehjs_exec.v0+json": {
              "id": "1067"
            }
          }
        }
      ],
      "execution_count": 8,
      "metadata": {
        "collapsed": false,
        "execution": {
          "iopub.status.busy": "2020-12-17T08:53:09.039Z",
          "iopub.execute_input": "2020-12-17T08:53:09.087Z",
          "shell.execute_reply": "2020-12-17T08:53:10.105Z",
          "iopub.status.idle": "2020-12-17T08:53:09.749Z"
        }
      }
    },
    {
      "cell_type": "markdown",
      "source": [
        "### Geometric distribution\n",
        "\n",
        "**Story.** We perform a series of Bernoulli trials until we\n",
        "get a success.  We have $k$ failures before the success.\n",
        "\n",
        "**Parameter.** The Geometric distribution is parametrized by a\n",
        "single value, $p$, the probability that the Bernoulli trial is\n",
        "successful.\n",
        "\n",
        "**Example.** Consider actin polymerization.  At each time\n",
        "step, an actin monomer may add to the filament (\"failure\"), or an\n",
        "actin monomer may fall off (\"\"success\"\") with (usually very low)\n",
        "probability $p$.  The length of actin filaments are Geometrically\n",
        "distributed.\n",
        "\n",
        "**Probability mass function.**\n",
        "\n",
        "\\begin{align}\n",
        "P(k;p) = (1-p)^k p.\n",
        "\\end{align}\n",
        "\n",
        "\n",
        "**Notes.** The Geometric distribution is only defined for non-negative\n",
        "integer $k$."
      ],
      "metadata": {}
    },
    {
      "cell_type": "code",
      "source": [
        "k = np.arange(11)\n",
        "p = plot_dists(k, st.geom, (0.4,), ('p',), 'Geometric', **{'loc': -1})\n",
        "bokeh.io.show(p)"
      ],
      "outputs": [
        {
          "output_type": "display_data",
          "data": {
            "text/html": "\n\n\n\n\n\n  <div class=\"bk-root\" id=\"c365fd22-0743-4199-acca-09f7438d281e\" data-root-id=\"1235\"></div>\n"
          },
          "metadata": {}
        },
        {
          "output_type": "display_data",
          "data": {
            "application/javascript": "(function(root) {\n  function embed_document(root) {\n    \n  var docs_json = {\"361a1c03-56d9-460b-a49f-c897147d611c\":{\"roots\":{\"references\":[{\"attributes\":{\"children\":[{\"id\":\"1170\"},{\"id\":\"1196\"}]},\"id\":\"1235\",\"type\":\"Row\"},{\"attributes\":{\"axis_label\":\"P(k; p)\",\"formatter\":{\"id\":\"1256\"},\"ticker\":{\"id\":\"1186\"}},\"id\":\"1185\",\"type\":\"LinearAxis\"},{\"attributes\":{\"line_color\":{\"value\":\"dodgerblue\"},\"line_width\":{\"value\":3},\"x0\":{\"field\":\"x0\"},\"x1\":{\"field\":\"x1\"},\"y0\":{\"value\":0},\"y1\":{\"field\":\"y1\"}},\"id\":\"1226\",\"type\":\"Segment\"},{\"attributes\":{\"axis\":{\"id\":\"1185\"},\"dimension\":1,\"ticker\":null},\"id\":\"1188\",\"type\":\"Grid\"},{\"attributes\":{\"axis\":{\"id\":\"1209\"},\"dimension\":1,\"ticker\":null},\"id\":\"1212\",\"type\":\"Grid\"},{\"attributes\":{},\"id\":\"1256\",\"type\":\"BasicTickFormatter\"},{\"attributes\":{},\"id\":\"1213\",\"type\":\"PanTool\"},{\"attributes\":{\"below\":[{\"id\":\"1205\"}],\"center\":[{\"id\":\"1208\"},{\"id\":\"1212\"}],\"left\":[{\"id\":\"1209\"}],\"plot_height\":250,\"plot_width\":325,\"renderers\":[{\"id\":\"1233\"}],\"title\":{\"id\":\"1254\"},\"toolbar\":{\"id\":\"1216\"},\"x_range\":{\"id\":\"1197\"},\"x_scale\":{\"id\":\"1201\"},\"y_range\":{\"id\":\"1199\"},\"y_scale\":{\"id\":\"1203\"}},\"id\":\"1196\",\"subtype\":\"Figure\",\"type\":\"Plot\"},{\"attributes\":{},\"id\":\"1258\",\"type\":\"BasicTickFormatter\"},{\"attributes\":{},\"id\":\"1210\",\"type\":\"BasicTicker\"},{\"attributes\":{\"source\":{\"id\":\"1225\"}},\"id\":\"1229\",\"type\":\"CDSView\"},{\"attributes\":{},\"id\":\"1214\",\"type\":\"WheelZoomTool\"},{\"attributes\":{},\"id\":\"1189\",\"type\":\"PanTool\"},{\"attributes\":{},\"id\":\"1260\",\"type\":\"BasicTickFormatter\"},{\"attributes\":{\"text\":\"Geometric, p = 0.4\"},\"id\":\"1171\",\"type\":\"Title\"},{\"attributes\":{},\"id\":\"1215\",\"type\":\"ResetTool\"},{\"attributes\":{},\"id\":\"1190\",\"type\":\"WheelZoomTool\"},{\"attributes\":{},\"id\":\"1262\",\"type\":\"BasicTickFormatter\"},{\"attributes\":{},\"id\":\"1179\",\"type\":\"LinearScale\"},{\"attributes\":{\"text\":\"\"},\"id\":\"1254\",\"type\":\"Title\"},{\"attributes\":{},\"id\":\"1191\",\"type\":\"ResetTool\"},{\"attributes\":{},\"id\":\"1264\",\"type\":\"UnionRenderers\"},{\"attributes\":{\"active_drag\":\"auto\",\"active_inspect\":\"auto\",\"active_multi\":null,\"active_scroll\":\"auto\",\"active_tap\":\"auto\",\"tools\":[{\"id\":\"1213\"},{\"id\":\"1214\"},{\"id\":\"1215\"}]},\"id\":\"1216\",\"type\":\"Toolbar\"},{\"attributes\":{\"end\":1.05,\"start\":-0.05},\"id\":\"1199\",\"type\":\"Range1d\"},{\"attributes\":{\"data\":{\"x\":{\"__ndarray__\":\"AAAAAAEAAAACAAAAAwAAAAQAAAAFAAAABgAAAAcAAAAIAAAACQAAAAoAAAA=\",\"dtype\":\"int32\",\"order\":\"little\",\"shape\":[11]},\"y\":{\"__ndarray__\":\"mpmZmZmZ2T+4HoXrUbjOPzvfT42XbsI/rdhfdk8etj/Q0D/BxYqqP/hgGRu62Z8/yNOodjwckz+9l8r0ru6GPxW2jPLRhHs/QG1UXuSCcD+A6f49RdBjPw==\",\"dtype\":\"float64\",\"order\":\"little\",\"shape\":[11]}},\"selected\":{\"id\":\"1265\"},\"selection_policy\":{\"id\":\"1264\"}},\"id\":\"1220\",\"type\":\"ColumnDataSource\"},{\"attributes\":{\"fill_color\":{\"value\":\"dodgerblue\"},\"line_color\":{\"value\":\"dodgerblue\"},\"size\":{\"units\":\"screen\",\"value\":7},\"x\":{\"field\":\"x\"},\"y\":{\"field\":\"y\"}},\"id\":\"1221\",\"type\":\"Circle\"},{\"attributes\":{},\"id\":\"1265\",\"type\":\"Selection\"},{\"attributes\":{\"active_drag\":\"auto\",\"active_inspect\":\"auto\",\"active_multi\":null,\"active_scroll\":\"auto\",\"active_tap\":\"auto\",\"tools\":[{\"id\":\"1189\"},{\"id\":\"1190\"},{\"id\":\"1191\"}]},\"id\":\"1192\",\"type\":\"Toolbar\"},{\"attributes\":{\"fill_alpha\":{\"value\":0.1},\"fill_color\":{\"value\":\"dodgerblue\"},\"line_alpha\":{\"value\":0.1},\"line_color\":{\"value\":\"dodgerblue\"},\"size\":{\"units\":\"screen\",\"value\":7},\"x\":{\"field\":\"x\"},\"y\":{\"field\":\"y\"}},\"id\":\"1232\",\"type\":\"Circle\"},{\"attributes\":{},\"id\":\"1266\",\"type\":\"UnionRenderers\"},{\"attributes\":{\"fill_color\":{\"value\":\"dodgerblue\"},\"line_color\":{\"value\":\"dodgerblue\"},\"size\":{\"units\":\"screen\",\"value\":7},\"x\":{\"field\":\"x\"},\"y\":{\"field\":\"y\"}},\"id\":\"1231\",\"type\":\"Circle\"},{\"attributes\":{\"line_alpha\":{\"value\":0.1},\"line_color\":{\"value\":\"dodgerblue\"},\"line_width\":{\"value\":3},\"x0\":{\"field\":\"x0\"},\"x1\":{\"field\":\"x1\"},\"y0\":{\"value\":0},\"y1\":{\"field\":\"y1\"}},\"id\":\"1227\",\"type\":\"Segment\"},{\"attributes\":{},\"id\":\"1267\",\"type\":\"Selection\"},{\"attributes\":{},\"id\":\"1197\",\"type\":\"DataRange1d\"},{\"attributes\":{\"source\":{\"id\":\"1230\"}},\"id\":\"1234\",\"type\":\"CDSView\"},{\"attributes\":{},\"id\":\"1268\",\"type\":\"UnionRenderers\"},{\"attributes\":{\"data_source\":{\"id\":\"1225\"},\"glyph\":{\"id\":\"1226\"},\"hover_glyph\":null,\"muted_glyph\":null,\"nonselection_glyph\":{\"id\":\"1227\"},\"selection_glyph\":null,\"view\":{\"id\":\"1229\"}},\"id\":\"1228\",\"type\":\"GlyphRenderer\"},{\"attributes\":{\"fill_alpha\":{\"value\":0.1},\"fill_color\":{\"value\":\"dodgerblue\"},\"line_alpha\":{\"value\":0.1},\"line_color\":{\"value\":\"dodgerblue\"},\"size\":{\"units\":\"screen\",\"value\":7},\"x\":{\"field\":\"x\"},\"y\":{\"field\":\"y\"}},\"id\":\"1222\",\"type\":\"Circle\"},{\"attributes\":{},\"id\":\"1269\",\"type\":\"Selection\"},{\"attributes\":{\"data\":{\"x0\":{\"__ndarray__\":\"AAAAAAEAAAACAAAAAwAAAAQAAAAFAAAABgAAAAcAAAAIAAAACQAAAAoAAAA=\",\"dtype\":\"int32\",\"order\":\"little\",\"shape\":[11]},\"x1\":{\"__ndarray__\":\"AAAAAAEAAAACAAAAAwAAAAQAAAAFAAAABgAAAAcAAAAIAAAACQAAAAoAAAA=\",\"dtype\":\"int32\",\"order\":\"little\",\"shape\":[11]},\"y1\":{\"__ndarray__\":\"mpmZmZmZ2T+4HoXrUbjOPzvfT42XbsI/rdhfdk8etj/Q0D/BxYqqP/hgGRu62Z8/yNOodjwckz+9l8r0ru6GPxW2jPLRhHs/QG1UXuSCcD+A6f49RdBjPw==\",\"dtype\":\"float64\",\"order\":\"little\",\"shape\":[11]}},\"selected\":{\"id\":\"1267\"},\"selection_policy\":{\"id\":\"1266\"}},\"id\":\"1225\",\"type\":\"ColumnDataSource\"},{\"attributes\":{\"below\":[{\"id\":\"1181\"}],\"center\":[{\"id\":\"1184\"},{\"id\":\"1188\"}],\"left\":[{\"id\":\"1185\"}],\"plot_height\":250,\"plot_width\":325,\"renderers\":[{\"id\":\"1223\"},{\"id\":\"1228\"}],\"title\":{\"id\":\"1171\"},\"toolbar\":{\"id\":\"1192\"},\"x_range\":{\"id\":\"1197\"},\"x_scale\":{\"id\":\"1177\"},\"y_range\":{\"id\":\"1175\"},\"y_scale\":{\"id\":\"1179\"}},\"id\":\"1170\",\"subtype\":\"Figure\",\"type\":\"Plot\"},{\"attributes\":{\"source\":{\"id\":\"1220\"}},\"id\":\"1224\",\"type\":\"CDSView\"},{\"attributes\":{},\"id\":\"1177\",\"type\":\"LinearScale\"},{\"attributes\":{},\"id\":\"1201\",\"type\":\"LinearScale\"},{\"attributes\":{},\"id\":\"1175\",\"type\":\"DataRange1d\"},{\"attributes\":{\"axis_label\":\"k\",\"formatter\":{\"id\":\"1262\"},\"ticker\":{\"id\":\"1206\"}},\"id\":\"1205\",\"type\":\"LinearAxis\"},{\"attributes\":{\"data_source\":{\"id\":\"1220\"},\"glyph\":{\"id\":\"1221\"},\"hover_glyph\":null,\"muted_glyph\":null,\"nonselection_glyph\":{\"id\":\"1222\"},\"selection_glyph\":null,\"view\":{\"id\":\"1224\"}},\"id\":\"1223\",\"type\":\"GlyphRenderer\"},{\"attributes\":{},\"id\":\"1203\",\"type\":\"LinearScale\"},{\"attributes\":{\"data\":{\"x\":{\"__ndarray__\":\"AAAAAAEAAAACAAAAAwAAAAQAAAAFAAAABgAAAAcAAAAIAAAACQAAAAoAAAA=\",\"dtype\":\"int32\",\"order\":\"little\",\"shape\":[11]},\"y\":{\"__ndarray__\":\"mpmZmZmZ2T97FK5H4XrkP0oMAiuHFuk/YAfOGVHa6z9sBOJ1/YLtP3TPukbLge4/ExZwKq0a7z9yQEPmZ3bvP95ZKIpxre8/uALlUnfO7z+iASOYR+LvPw==\",\"dtype\":\"float64\",\"order\":\"little\",\"shape\":[11]}},\"selected\":{\"id\":\"1269\"},\"selection_policy\":{\"id\":\"1268\"}},\"id\":\"1230\",\"type\":\"ColumnDataSource\"},{\"attributes\":{\"axis_label\":\"k\",\"formatter\":{\"id\":\"1258\"},\"ticker\":{\"id\":\"1182\"}},\"id\":\"1181\",\"type\":\"LinearAxis\"},{\"attributes\":{\"data_source\":{\"id\":\"1230\"},\"glyph\":{\"id\":\"1231\"},\"hover_glyph\":null,\"muted_glyph\":null,\"nonselection_glyph\":{\"id\":\"1232\"},\"selection_glyph\":null,\"view\":{\"id\":\"1234\"}},\"id\":\"1233\",\"type\":\"GlyphRenderer\"},{\"attributes\":{},\"id\":\"1182\",\"type\":\"BasicTicker\"},{\"attributes\":{},\"id\":\"1206\",\"type\":\"BasicTicker\"},{\"attributes\":{\"axis\":{\"id\":\"1181\"},\"ticker\":null},\"id\":\"1184\",\"type\":\"Grid\"},{\"attributes\":{\"axis\":{\"id\":\"1205\"},\"ticker\":null},\"id\":\"1208\",\"type\":\"Grid\"},{\"attributes\":{},\"id\":\"1186\",\"type\":\"BasicTicker\"},{\"attributes\":{\"axis_label\":\"F(k; p)\",\"formatter\":{\"id\":\"1260\"},\"ticker\":{\"id\":\"1210\"}},\"id\":\"1209\",\"type\":\"LinearAxis\"}],\"root_ids\":[\"1235\"]},\"title\":\"Bokeh Application\",\"version\":\"2.2.3\"}};\n  var render_items = [{\"docid\":\"361a1c03-56d9-460b-a49f-c897147d611c\",\"root_ids\":[\"1235\"],\"roots\":{\"1235\":\"c365fd22-0743-4199-acca-09f7438d281e\"}}];\n  root.Bokeh.embed.embed_items_notebook(docs_json, render_items);\n\n  }\n  if (root.Bokeh !== undefined) {\n    embed_document(root);\n  } else {\n    var attempts = 0;\n    var timer = setInterval(function(root) {\n      if (root.Bokeh !== undefined) {\n        clearInterval(timer);\n        embed_document(root);\n      } else {\n        attempts++;\n        if (attempts > 100) {\n          clearInterval(timer);\n          console.log(\"Bokeh: ERROR: Unable to run BokehJS code because BokehJS library is missing\");\n        }\n      }\n    }, 10, root)\n  }\n})(window);",
            "application/vnd.bokehjs_exec.v0+json": ""
          },
          "metadata": {
            "application/vnd.bokehjs_exec.v0+json": {
              "id": "1235"
            }
          }
        }
      ],
      "execution_count": 9,
      "metadata": {
        "collapsed": false,
        "execution": {
          "shell.execute_reply": "2020-12-17T08:53:15.164Z",
          "iopub.status.busy": "2020-12-17T08:53:14.895Z",
          "iopub.execute_input": "2020-12-17T08:53:14.922Z",
          "iopub.status.idle": "2020-12-17T08:53:15.027Z"
        }
      }
    },
    {
      "cell_type": "markdown",
      "source": [
        "### Negative Binomial distribution\n",
        "\n",
        "**Story.** We perform a series of Bernoulli trials until we\n",
        "get $r$ successes.  The number of failures, $k$, before we get $r$\n",
        "successes is Negative Binomially distributed.\n",
        "\n",
        "**Parameters.** There are two parameters: the probability $p$\n",
        "of success for each Bernoulli trial, and the desired number of\n",
        "successes, $r$.\n",
        "\n",
        "**Example.** Bursty gene expression can give mRNA count\n",
        "distributions that are Negative Binomially distributed.  Here,\n",
        "\"success\" is that a burst in gene expression stops.  So, the\n",
        "parameter $p$ is related to the length of a burst in expression (lower\n",
        "$p$ means a longer burst).  The parameter $r$ is related to the\n",
        "frequency of the bursts.  If multiple bursts are possible within the\n",
        "lifetime of mRNA, then $r > 1$.  Then, the number of \"failures\" is\n",
        "the number of mRNA transcripts that are made in the characteristic\n",
        "lifetime of mRNA.\n",
        "\n",
        "**Probability mass function.**\n",
        "\n",
        "$\\begin{align}\n",
        "P(k;r,p) = \\begin{pmatrix}\n",
        "k+r-1 \\\\\n",
        "r-1\n",
        "\\end{pmatrix}\n",
        "p^r (1-p)^k.\n",
        "\\end{align}$\n",
        "\n",
        "Here, we use a combinatorial notation;\n",
        "\n",
        "$\\begin{align}\n",
        "  \\begin{pmatrix}\n",
        "k+r-1 \\\\\n",
        "r-1\n",
        "\\end{pmatrix} = \\frac{(k+r-1)!}{(r-1)!\\,k!}.\n",
        "\\end{align}$\n",
        "\n",
        "**Notes.** If $r = 1$, this distribution reduces to the Geometric\n",
        "distribution."
      ],
      "metadata": {}
    },
    {
      "cell_type": "code",
      "source": [
        "k = np.arange(21)\n",
        "p = plot_dists(k, st.nbinom, (3, 0.4), ('r', 'p',), 'Negative Binomial')\n",
        "bokeh.io.show(p)"
      ],
      "outputs": [
        {
          "output_type": "display_data",
          "data": {
            "text/html": "\n\n\n\n\n\n  <div class=\"bk-root\" id=\"a9ed9e64-b51c-4e07-a656-5ccd5a8af384\" data-root-id=\"1420\"></div>\n"
          },
          "metadata": {}
        },
        {
          "output_type": "display_data",
          "data": {
            "application/javascript": "(function(root) {\n  function embed_document(root) {\n    \n  var docs_json = {\"57f77d6a-3a54-4fb8-9b3e-bb1145fe1846\":{\"roots\":{\"references\":[{\"attributes\":{\"children\":[{\"id\":\"1355\"},{\"id\":\"1381\"}]},\"id\":\"1420\",\"type\":\"Row\"},{\"attributes\":{},\"id\":\"1391\",\"type\":\"BasicTicker\"},{\"attributes\":{\"axis\":{\"id\":\"1366\"},\"ticker\":null},\"id\":\"1369\",\"type\":\"Grid\"},{\"attributes\":{\"data\":{\"x0\":{\"__ndarray__\":\"AAAAAAEAAAACAAAAAwAAAAQAAAAFAAAABgAAAAcAAAAIAAAACQAAAAoAAAALAAAADAAAAA0AAAAOAAAADwAAABAAAAARAAAAEgAAABMAAAAUAAAA\",\"dtype\":\"int32\",\"order\":\"little\",\"shape\":[21]},\"x1\":{\"__ndarray__\":\"AAAAAAEAAAACAAAAAwAAAAQAAAAFAAAABgAAAAcAAAAIAAAACQAAAAoAAAALAAAADAAAAA0AAAAOAAAADwAAABAAAAARAAAAEgAAABMAAAAUAAAA\",\"dtype\":\"int32\",\"order\":\"little\",\"shape\":[21]},\"y1\":{\"__ndarray__\":\"/anx0k1isD+Vy39Iv329P4zgfyvZscE/i+B/K9mxwT/8YBkbutm/P7lb7HIhwbo/+OKJ9U1ntT88bVRe5IKwP+Gjfo1WxKg/aKspzpQpoj+zH8GjZSeaP5bepCmli5I/mQQaB7T2iT8Nja9TkPmBP3eVMk63png/5kadcknDcD+jHyHBPKFmP4ct7erAWV4/vXPz8dU7VD/97GUQGdZKP9LUBb5DtkE/\",\"dtype\":\"float64\",\"order\":\"little\",\"shape\":[21]}},\"selected\":{\"id\":\"1469\"},\"selection_policy\":{\"id\":\"1468\"}},\"id\":\"1410\",\"type\":\"ColumnDataSource\"},{\"attributes\":{\"axis\":{\"id\":\"1390\"},\"ticker\":null},\"id\":\"1393\",\"type\":\"Grid\"},{\"attributes\":{\"axis_label\":\"P(k; r, p)\",\"formatter\":{\"id\":\"1458\"},\"ticker\":{\"id\":\"1371\"}},\"id\":\"1370\",\"type\":\"LinearAxis\"},{\"attributes\":{\"data\":{\"x\":{\"__ndarray__\":\"AAAAAAEAAAACAAAAAwAAAAQAAAAFAAAABgAAAAcAAAAIAAAACQAAAAoAAAALAAAADAAAAA0AAAAOAAAADwAAABAAAAARAAAAEgAAABMAAAAUAAAA\",\"dtype\":\"int32\",\"order\":\"little\",\"shape\":[21]},\"y\":{\"__ndarray__\":\"/anx0k1isD/IuriNBvDGP65NnNzvUNQ/8D1cctwp3T8YS5F8JZDiP4zW7qpJ6OU/7BKgaTOV6D+UoGr1j6XqP9KKQl7VMew/iCUlq25U7T+GLkPYqSXuP3xVkAEHuu4/jb2s0eEh7z/Be/sSyGnvP+zgl4EVm+8/eht9FJy87z+aPD5RPdPvPzGzszFq4u8/6qysHIjs7z9mxvCiPfPvP9tH4DOr9+8/\",\"dtype\":\"float64\",\"order\":\"little\",\"shape\":[21]}},\"selected\":{\"id\":\"1471\"},\"selection_policy\":{\"id\":\"1470\"}},\"id\":\"1415\",\"type\":\"ColumnDataSource\"},{\"attributes\":{\"axis_label\":\"F(k; r, p)\",\"formatter\":{\"id\":\"1462\"},\"ticker\":{\"id\":\"1395\"}},\"id\":\"1394\",\"type\":\"LinearAxis\"},{\"attributes\":{},\"id\":\"1371\",\"type\":\"BasicTicker\"},{\"attributes\":{\"line_alpha\":{\"value\":0.1},\"line_color\":{\"value\":\"dodgerblue\"},\"line_width\":{\"value\":3},\"x0\":{\"field\":\"x0\"},\"x1\":{\"field\":\"x1\"},\"y0\":{\"value\":0},\"y1\":{\"field\":\"y1\"}},\"id\":\"1412\",\"type\":\"Segment\"},{\"attributes\":{},\"id\":\"1395\",\"type\":\"BasicTicker\"},{\"attributes\":{\"axis\":{\"id\":\"1370\"},\"dimension\":1,\"ticker\":null},\"id\":\"1373\",\"type\":\"Grid\"},{\"attributes\":{\"source\":{\"id\":\"1410\"}},\"id\":\"1414\",\"type\":\"CDSView\"},{\"attributes\":{\"data_source\":{\"id\":\"1410\"},\"glyph\":{\"id\":\"1411\"},\"hover_glyph\":null,\"muted_glyph\":null,\"nonselection_glyph\":{\"id\":\"1412\"},\"selection_glyph\":null,\"view\":{\"id\":\"1414\"}},\"id\":\"1413\",\"type\":\"GlyphRenderer\"},{\"attributes\":{},\"id\":\"1360\",\"type\":\"DataRange1d\"},{\"attributes\":{\"axis\":{\"id\":\"1394\"},\"dimension\":1,\"ticker\":null},\"id\":\"1397\",\"type\":\"Grid\"},{\"attributes\":{\"data\":{\"x\":{\"__ndarray__\":\"AAAAAAEAAAACAAAAAwAAAAQAAAAFAAAABgAAAAcAAAAIAAAACQAAAAoAAAALAAAADAAAAA0AAAAOAAAADwAAABAAAAARAAAAEgAAABMAAAAUAAAA\",\"dtype\":\"int32\",\"order\":\"little\",\"shape\":[21]},\"y\":{\"__ndarray__\":\"/anx0k1isD+Vy39Iv329P4zgfyvZscE/i+B/K9mxwT/8YBkbutm/P7lb7HIhwbo/+OKJ9U1ntT88bVRe5IKwP+Gjfo1WxKg/aKspzpQpoj+zH8GjZSeaP5bepCmli5I/mQQaB7T2iT8Nja9TkPmBP3eVMk63png/5kadcknDcD+jHyHBPKFmP4ct7erAWV4/vXPz8dU7VD/97GUQGdZKP9LUBb5DtkE/\",\"dtype\":\"float64\",\"order\":\"little\",\"shape\":[21]}},\"selected\":{\"id\":\"1467\"},\"selection_policy\":{\"id\":\"1466\"}},\"id\":\"1405\",\"type\":\"ColumnDataSource\"},{\"attributes\":{\"line_color\":{\"value\":\"dodgerblue\"},\"line_width\":{\"value\":3},\"x0\":{\"field\":\"x0\"},\"x1\":{\"field\":\"x1\"},\"y0\":{\"value\":0},\"y1\":{\"field\":\"y1\"}},\"id\":\"1411\",\"type\":\"Segment\"},{\"attributes\":{},\"id\":\"1374\",\"type\":\"PanTool\"},{\"attributes\":{},\"id\":\"1462\",\"type\":\"BasicTickFormatter\"},{\"attributes\":{\"fill_color\":{\"value\":\"dodgerblue\"},\"line_color\":{\"value\":\"dodgerblue\"},\"size\":{\"units\":\"screen\",\"value\":7},\"x\":{\"field\":\"x\"},\"y\":{\"field\":\"y\"}},\"id\":\"1416\",\"type\":\"Circle\"},{\"attributes\":{},\"id\":\"1398\",\"type\":\"PanTool\"},{\"attributes\":{},\"id\":\"1375\",\"type\":\"WheelZoomTool\"},{\"attributes\":{\"fill_alpha\":{\"value\":0.1},\"fill_color\":{\"value\":\"dodgerblue\"},\"line_alpha\":{\"value\":0.1},\"line_color\":{\"value\":\"dodgerblue\"},\"size\":{\"units\":\"screen\",\"value\":7},\"x\":{\"field\":\"x\"},\"y\":{\"field\":\"y\"}},\"id\":\"1417\",\"type\":\"Circle\"},{\"attributes\":{},\"id\":\"1399\",\"type\":\"WheelZoomTool\"},{\"attributes\":{},\"id\":\"1376\",\"type\":\"ResetTool\"},{\"attributes\":{\"source\":{\"id\":\"1415\"}},\"id\":\"1419\",\"type\":\"CDSView\"},{\"attributes\":{},\"id\":\"1400\",\"type\":\"ResetTool\"},{\"attributes\":{\"active_drag\":\"auto\",\"active_inspect\":\"auto\",\"active_multi\":null,\"active_scroll\":\"auto\",\"active_tap\":\"auto\",\"tools\":[{\"id\":\"1374\"},{\"id\":\"1375\"},{\"id\":\"1376\"}]},\"id\":\"1377\",\"type\":\"Toolbar\"},{\"attributes\":{},\"id\":\"1464\",\"type\":\"BasicTickFormatter\"},{\"attributes\":{},\"id\":\"1382\",\"type\":\"DataRange1d\"},{\"attributes\":{\"active_drag\":\"auto\",\"active_inspect\":\"auto\",\"active_multi\":null,\"active_scroll\":\"auto\",\"active_tap\":\"auto\",\"tools\":[{\"id\":\"1398\"},{\"id\":\"1399\"},{\"id\":\"1400\"}]},\"id\":\"1401\",\"type\":\"Toolbar\"},{\"attributes\":{},\"id\":\"1367\",\"type\":\"BasicTicker\"},{\"attributes\":{},\"id\":\"1467\",\"type\":\"Selection\"},{\"attributes\":{\"data_source\":{\"id\":\"1415\"},\"glyph\":{\"id\":\"1416\"},\"hover_glyph\":null,\"muted_glyph\":null,\"nonselection_glyph\":{\"id\":\"1417\"},\"selection_glyph\":null,\"view\":{\"id\":\"1419\"}},\"id\":\"1418\",\"type\":\"GlyphRenderer\"},{\"attributes\":{},\"id\":\"1466\",\"type\":\"UnionRenderers\"},{\"attributes\":{},\"id\":\"1469\",\"type\":\"Selection\"},{\"attributes\":{},\"id\":\"1460\",\"type\":\"BasicTickFormatter\"},{\"attributes\":{},\"id\":\"1364\",\"type\":\"LinearScale\"},{\"attributes\":{},\"id\":\"1468\",\"type\":\"UnionRenderers\"},{\"attributes\":{\"text\":\"\"},\"id\":\"1456\",\"type\":\"Title\"},{\"attributes\":{},\"id\":\"1458\",\"type\":\"BasicTickFormatter\"},{\"attributes\":{},\"id\":\"1471\",\"type\":\"Selection\"},{\"attributes\":{},\"id\":\"1362\",\"type\":\"LinearScale\"},{\"attributes\":{\"axis_label\":\"k\",\"formatter\":{\"id\":\"1460\"},\"ticker\":{\"id\":\"1367\"}},\"id\":\"1366\",\"type\":\"LinearAxis\"},{\"attributes\":{\"end\":1.05,\"start\":-0.05},\"id\":\"1384\",\"type\":\"Range1d\"},{\"attributes\":{\"below\":[{\"id\":\"1366\"}],\"center\":[{\"id\":\"1369\"},{\"id\":\"1373\"}],\"left\":[{\"id\":\"1370\"}],\"plot_height\":250,\"plot_width\":325,\"renderers\":[{\"id\":\"1408\"},{\"id\":\"1413\"}],\"title\":{\"id\":\"1356\"},\"toolbar\":{\"id\":\"1377\"},\"x_range\":{\"id\":\"1382\"},\"x_scale\":{\"id\":\"1362\"},\"y_range\":{\"id\":\"1360\"},\"y_scale\":{\"id\":\"1364\"}},\"id\":\"1355\",\"subtype\":\"Figure\",\"type\":\"Plot\"},{\"attributes\":{\"data_source\":{\"id\":\"1405\"},\"glyph\":{\"id\":\"1406\"},\"hover_glyph\":null,\"muted_glyph\":null,\"nonselection_glyph\":{\"id\":\"1407\"},\"selection_glyph\":null,\"view\":{\"id\":\"1409\"}},\"id\":\"1408\",\"type\":\"GlyphRenderer\"},{\"attributes\":{},\"id\":\"1386\",\"type\":\"LinearScale\"},{\"attributes\":{\"text\":\"Negative Binomial, r = 3, p = 0.4\"},\"id\":\"1356\",\"type\":\"Title\"},{\"attributes\":{\"fill_alpha\":{\"value\":0.1},\"fill_color\":{\"value\":\"dodgerblue\"},\"line_alpha\":{\"value\":0.1},\"line_color\":{\"value\":\"dodgerblue\"},\"size\":{\"units\":\"screen\",\"value\":7},\"x\":{\"field\":\"x\"},\"y\":{\"field\":\"y\"}},\"id\":\"1407\",\"type\":\"Circle\"},{\"attributes\":{},\"id\":\"1470\",\"type\":\"UnionRenderers\"},{\"attributes\":{},\"id\":\"1388\",\"type\":\"LinearScale\"},{\"attributes\":{\"below\":[{\"id\":\"1390\"}],\"center\":[{\"id\":\"1393\"},{\"id\":\"1397\"}],\"left\":[{\"id\":\"1394\"}],\"plot_height\":250,\"plot_width\":325,\"renderers\":[{\"id\":\"1418\"}],\"title\":{\"id\":\"1456\"},\"toolbar\":{\"id\":\"1401\"},\"x_range\":{\"id\":\"1382\"},\"x_scale\":{\"id\":\"1386\"},\"y_range\":{\"id\":\"1384\"},\"y_scale\":{\"id\":\"1388\"}},\"id\":\"1381\",\"subtype\":\"Figure\",\"type\":\"Plot\"},{\"attributes\":{\"fill_color\":{\"value\":\"dodgerblue\"},\"line_color\":{\"value\":\"dodgerblue\"},\"size\":{\"units\":\"screen\",\"value\":7},\"x\":{\"field\":\"x\"},\"y\":{\"field\":\"y\"}},\"id\":\"1406\",\"type\":\"Circle\"},{\"attributes\":{\"axis_label\":\"k\",\"formatter\":{\"id\":\"1464\"},\"ticker\":{\"id\":\"1391\"}},\"id\":\"1390\",\"type\":\"LinearAxis\"},{\"attributes\":{\"source\":{\"id\":\"1405\"}},\"id\":\"1409\",\"type\":\"CDSView\"}],\"root_ids\":[\"1420\"]},\"title\":\"Bokeh Application\",\"version\":\"2.2.3\"}};\n  var render_items = [{\"docid\":\"57f77d6a-3a54-4fb8-9b3e-bb1145fe1846\",\"root_ids\":[\"1420\"],\"roots\":{\"1420\":\"a9ed9e64-b51c-4e07-a656-5ccd5a8af384\"}}];\n  root.Bokeh.embed.embed_items_notebook(docs_json, render_items);\n\n  }\n  if (root.Bokeh !== undefined) {\n    embed_document(root);\n  } else {\n    var attempts = 0;\n    var timer = setInterval(function(root) {\n      if (root.Bokeh !== undefined) {\n        clearInterval(timer);\n        embed_document(root);\n      } else {\n        attempts++;\n        if (attempts > 100) {\n          clearInterval(timer);\n          console.log(\"Bokeh: ERROR: Unable to run BokehJS code because BokehJS library is missing\");\n        }\n      }\n    }, 10, root)\n  }\n})(window);",
            "application/vnd.bokehjs_exec.v0+json": ""
          },
          "metadata": {
            "application/vnd.bokehjs_exec.v0+json": {
              "id": "1420"
            }
          }
        }
      ],
      "execution_count": 10,
      "metadata": {
        "collapsed": false,
        "execution": {
          "shell.execute_reply": "2020-12-17T08:53:19.094Z",
          "iopub.status.busy": "2020-12-17T08:53:18.754Z",
          "iopub.execute_input": "2020-12-17T08:53:18.801Z",
          "iopub.status.idle": "2020-12-17T08:53:18.945Z"
        }
      }
    },
    {
      "cell_type": "markdown",
      "source": [
        "### Binomial distribution\n",
        "\n",
        "**Story.** We perform $n$ Bernoulli trials with probability $p$ of success.  The number of\n",
        "successes, $k$, is binomially distributed.\n",
        "\n",
        "**Parameters.** There are two parameters: the probability $p$\n",
        "of success for each Bernoulli trial, and the number of trials, $n$.\n",
        "\n",
        "**Example.** Distribution of plasmids between daughter cells\n",
        "in cell division.  Each of the $n$ plasmids as a chance $p$ of being\n",
        "in daughter cell 1 (\"success\").  The number of plasmids, $k$, in\n",
        "daughter cell 1 is binomially distributed.\n",
        "\n",
        "**Probability mass function.**\n",
        "\n",
        "$\\begin{align}\n",
        "P(k;n,p) = \\begin{pmatrix}\n",
        "n \\\\\n",
        "k\n",
        "\\end{pmatrix}\n",
        "p^k (1-p)^{n-k}.\n",
        "\\end{align}$"
      ],
      "metadata": {}
    },
    {
      "cell_type": "code",
      "source": [
        "k = np.arange(21)\n",
        "p = plot_dists(k, st.binom, (20, 0.4), ('n', 'p',), 'Binomial')\n",
        "bokeh.io.show(p)"
      ],
      "outputs": [],
      "execution_count": null,
      "metadata": {
        "collapsed": false,
        "execution": {
          "shell.execute_reply": "2020-12-16T14:41:38.914Z",
          "iopub.status.busy": "2020-12-16T14:41:41.834Z",
          "iopub.execute_input": "2020-12-16T14:41:41.877Z",
          "iopub.status.idle": "2020-12-16T14:41:42.026Z"
        }
      }
    },
    {
      "cell_type": "markdown",
      "source": [
        "### Poisson distribution\n",
        "\n",
        "**Story.**  Rare events occur with a rate $\\lambda$ per unit\n",
        "time.  There is no \"memory\" of previous events; i.e., that rate is\n",
        "independent of time. A process that generates such events is called a *Poisson process*. The occurrence of a rare event in this context is referred to as an *arrival*. The number $k$ of arrivals in unit time is Poisson distributed.\n",
        "\n",
        "**Parameter.** The single parameter is the rate $\\lambda$ of\n",
        "the rare events occurring.\n",
        "\n",
        "**Example.** The number of mutations in a strand of DNA per\n",
        "unit length (since mutations are rare) are Poisson distributed.\n",
        "\n",
        "**Probability mass function.**\n",
        "$\\begin{align}\n",
        "P(k;\\lambda) = \\frac{\\lambda^k}{k!}\\,\\mathrm{e}^{-\\lambda}.\n",
        "\\end{align}$\n",
        "\n",
        "**Notes.**\n",
        "The Poisson distribution is a limit of the binomial distribution in\n",
        "which the number of trials goes to infinity, but the expected number\n",
        "of successes, $np$, stays fixed.  Thus,\n",
        "\n",
        "$\\begin{align}\n",
        "P_\\mathrm{Poisson}(k;\\lambda) \\approx P_\\mathrm{Binomial}(k;n, p),\n",
        "\\end{align}$\n",
        "\n",
        "with $\\lambda = np$.  Considering the biological example of mutations,\n",
        "this is binomially distributed: There are $n$ bases, each with a\n",
        "probability $p$ of mutation, so the number of mutations, $k$ is\n",
        "binomially distributed.  Since $p$ is small, it is approximately\n",
        "Poisson distributed."
      ],
      "metadata": {}
    },
    {
      "cell_type": "code",
      "source": [
        "k = np.arange(11)\n",
        "p = plot_dists(k, st.poisson, (1,), ('λ',), 'Poisson')\n",
        "bokeh.io.show(p)"
      ],
      "outputs": [],
      "execution_count": null,
      "metadata": {
        "collapsed": false,
        "execution": {
          "shell.execute_reply": "2020-12-16T14:41:38.982Z",
          "iopub.status.busy": "2020-12-16T14:41:42.093Z",
          "iopub.execute_input": "2020-12-16T14:41:42.140Z",
          "iopub.status.idle": "2020-12-16T14:41:42.315Z"
        }
      }
    },
    {
      "cell_type": "markdown",
      "source": [
        "### Hypergeometric distribution\n",
        "\n",
        "**Story.** Consider an urn with $w$ white balls and $b$ black\n",
        "balls.  Draw $n$ balls from this urn without replacement.  The number\n",
        "white balls drawn, $k$, is Hypergeometrically distributed.\n",
        "\n",
        "**Parameters.** There are three parameters: the number of\n",
        "draws $n$, the number of white balls $w$, and the number of black\n",
        "balls $b$.\n",
        "\n",
        "**Example.** There are $N$ finches on an island, and $n_t$ of\n",
        "them are tagged.  You capture $n$ finches.  The number of tagged\n",
        "finches $k$ is Hypergeometrically distributed, $P(k;n_t, N-n_t, n)$,\n",
        "as defined below.\n",
        "\n",
        "**Probability mass function.**\n",
        "\n",
        "$\\begin{align}\n",
        "P(k;w, b, n) = \\frac{\\begin{pmatrix}w\\\\k\\end{pmatrix}\\begin{pmatrix}b\\\\n-k\\end{pmatrix}}\n",
        "{\\begin{pmatrix}w+b\\\\n\\end{pmatrix}}.\n",
        "\\end{align}$\n",
        "\n",
        "Alternatively, if we define $N = w + b$, we could write\n",
        "\n",
        "$\\begin{align}\n",
        "P(k;N, w, n) = \\frac{\\begin{pmatrix}w\\\\k\\end{pmatrix}\\begin{pmatrix}N-w\\\\n-k\\end{pmatrix}}\n",
        "{\\begin{pmatrix}N\\\\n\\end{pmatrix}}.\n",
        "\\end{align}$\n",
        "\n",
        "\n",
        "**Notes.** This distribution is analogous to the Binomial\n",
        "distribution, except that the Binomial distribution describes draws\n",
        "from an urn *with* replacement.  In the analogy, $p = w/(w+b)$."
      ],
      "metadata": {}
    },
    {
      "cell_type": "code",
      "source": [
        "k = np.arange(11)\n",
        "p = plot_dists(k, st.hypergeom, (25, 5, 10), ('N', 'w', 'n'), 'Hypergeometric')\n",
        "bokeh.io.show(p)"
      ],
      "outputs": [],
      "execution_count": null,
      "metadata": {
        "collapsed": false,
        "execution": {
          "shell.execute_reply": "2020-12-16T14:41:39.051Z",
          "iopub.status.busy": "2020-12-16T14:41:42.394Z",
          "iopub.execute_input": "2020-12-16T14:41:42.444Z",
          "iopub.status.idle": "2020-12-16T14:41:42.585Z"
        }
      }
    },
    {
      "cell_type": "markdown",
      "source": [
        "## Continuous distributions"
      ],
      "metadata": {}
    },
    {
      "cell_type": "markdown",
      "source": [
        "### Uniform distribution\n",
        "\n",
        "**Story.** Any outcome in a given range has equal probability.\n",
        "\n",
        "**Parameters.** The Uniform distribution is not defined on an\n",
        "infinite or semi-infinite domain, so bounds, $x_\\mathrm{min}$ and\n",
        "$x_\\mathrm{max}$ are necessary parameters.\n",
        "\n",
        "**Example.** Anything in which all possibilities are equally\n",
        "likely.\n",
        "\n",
        "**Probability density function.**\n",
        "\n",
        "\\begin{align}\n",
        "P(x;x_\\mathrm{min}, x_\\mathrm{max}) = \\left\\{ \\begin{array}{ccc}\n",
        "\\frac{1}{x_\\mathrm{max} - x_\\mathrm{min}} & & x_\\mathrm{min} \\le x \\le x_\\mathrm{max} \\\\[0.5em]\n",
        "0 & & \\text{otherwise.}\n",
        "\\end{array}\n",
        "\\right.\n",
        "\\end{align}"
      ],
      "metadata": {}
    },
    {
      "cell_type": "code",
      "source": [
        "x = np.array([0, 1])\n",
        "p = plot_dists(x, st.uniform, (0, 1), ('xmin', 'xmax'), 'Uniform')\n",
        "bokeh.io.show(p)"
      ],
      "outputs": [],
      "execution_count": null,
      "metadata": {
        "collapsed": false,
        "execution": {
          "shell.execute_reply": "2020-12-16T15:02:09.853Z",
          "iopub.status.busy": "2020-12-16T15:02:09.660Z",
          "iopub.execute_input": "2020-12-16T15:02:09.689Z",
          "iopub.status.idle": "2020-12-16T15:02:09.781Z"
        }
      }
    },
    {
      "cell_type": "markdown",
      "source": [
        "### Gaussian  (a.k.a. Normal) distribution\n",
        "\n",
        "**Story.** Any quantity that emerges from a large number of\n",
        "subprocesses tends to be Gaussian distributed provided none of the\n",
        "subprocesses is very broadly distributed.\n",
        "\n",
        "**Parameters.** The Gaussian distribution has two parameters,\n",
        "the mean $\\mu$, which determines the location of its peak, and the\n",
        "standard deviation $\\sigma$, which is strictly positive (the\n",
        "$\\sigma\\to 0$ limit defines a Dirac delta function) and determines the\n",
        "width of the peak.\n",
        "\n",
        "**Example.** We measure the length of many *C. elegans*\n",
        "eggs.  The lengths are Gaussian distributed.\n",
        "\n",
        "**Probability density function.**\n",
        "\n",
        "\\begin{align}\n",
        "P(x;\\mu, \\sigma) = \\frac{1}{\\sqrt{2\\pi \\sigma^2}}\\,\\mathrm{e}^{-(x-\\mu)^2/2\\sigma^2}.\n",
        "\\end{align}\n",
        "\n",
        "**Notes.** This is a limiting distribution in the sense of the\n",
        "central limit theorem, but also in that many distributions have a\n",
        "Gaussian distribution as a limit.  This is seen by formally taking\n",
        "limits of, e.g., the Gamma, Student-t, Binomial distributions, which\n",
        "allows direct comparison of parameters."
      ],
      "metadata": {}
    },
    {
      "cell_type": "code",
      "source": [
        "x = np.linspace(0, 20, 200)\n",
        "p = plot_dists(x, st.norm, (10, 2), ('µ', 'σ'), 'Gaussian')\n",
        "bokeh.io.show(p)"
      ],
      "outputs": [],
      "execution_count": null,
      "metadata": {
        "collapsed": false,
        "execution": {
          "shell.execute_reply": "2020-12-16T14:41:39.167Z",
          "iopub.status.busy": "2020-12-16T14:41:42.793Z",
          "iopub.execute_input": "2020-12-16T14:41:42.830Z",
          "iopub.status.idle": "2020-12-16T14:41:42.929Z"
        }
      }
    },
    {
      "cell_type": "markdown",
      "source": [
        "### Log-Normal distribution\n",
        "\n",
        "**Story.** If $\\ln x$ is Gaussian distributed, $x$ is\n",
        "Log-Normally distributed.\n",
        "\n",
        "**Parameters.** As for a Gaussian, there are two parameters,\n",
        "the mean logarithm, $\\ln \\mu$, and the variance $\\sigma^2$.\n",
        "\n",
        "**Example.** A measure of fold change in gene expression can\n",
        "be Log-Normally distributed.\n",
        "\n",
        "**Probability density function.**\n",
        "\n",
        "\\begin{align}\n",
        "P(x;\\mu, \\sigma) = \\frac{1}{x\\sqrt{2\\pi \\sigma^2}}\\,\\mathrm{e}^{-(\\ln x - \\ln \\mu)^2/2\\sigma^2}.\n",
        "\\end{align}"
      ],
      "metadata": {}
    },
    {
      "cell_type": "code",
      "source": [
        "x = np.linspace(0, 10, 200)\n",
        "p = plot_dists(x, st.lognorm, (0.5, 1), ('σ', 'µ'), 'Log-normal')\n",
        "bokeh.io.show(p)"
      ],
      "outputs": [],
      "execution_count": null,
      "metadata": {
        "collapsed": false,
        "execution": {
          "shell.execute_reply": "2020-12-16T14:41:39.227Z",
          "iopub.status.busy": "2020-12-16T14:41:42.986Z",
          "iopub.execute_input": "2020-12-16T14:41:43.009Z",
          "iopub.status.idle": "2020-12-16T14:41:43.073Z"
        }
      }
    },
    {
      "cell_type": "markdown",
      "source": [
        "### Von Mises distribution\n",
        "\n",
        "**Story.** Gaussian, except on a periodic domain.\n",
        "\n",
        "**Parameters.** As for a Gaussian, with $\\mu$ being the\n",
        "location of the peak, and $\\beta$ being analogous to the variance.\n",
        "\n",
        "**Example.** Repeated measurements on a periodic domain, e.g.,\n",
        "the location of an ingression along the azimuthal angle of a\n",
        "developing embryo.\n",
        "\n",
        "**Probability density function.**\n",
        "\n",
        "\\begin{align}\n",
        "P(\\theta;\\mu, \\beta) = \\frac{1}{2\\pi I_0(\\beta)}\\,\\mathrm{e}^{\\beta \\cos(\\theta - \\mu)},\n",
        "\\end{align}\n",
        "\n",
        "where $I_0(\\beta)$ is a modified Bessel function of the first kind."
      ],
      "metadata": {}
    },
    {
      "cell_type": "code",
      "source": [
        "x = np.linspace(0, 2*np.pi, 200)\n",
        "p = plot_dists(x, st.vonmises, (0.5, 3.14), ('β', 'µ'), 'Von Mises')\n",
        "bokeh.io.show(p)"
      ],
      "outputs": [],
      "execution_count": null,
      "metadata": {
        "collapsed": false,
        "execution": {
          "shell.execute_reply": "2020-12-16T15:10:05.353Z",
          "iopub.status.busy": "2020-12-16T15:10:05.075Z",
          "iopub.execute_input": "2020-12-16T15:10:05.103Z",
          "iopub.status.idle": "2020-12-16T15:10:05.185Z"
        }
      }
    },
    {
      "cell_type": "markdown",
      "source": [
        "### Chi-square distribution\n",
        "\n",
        "**Story.** If $X_1$,\n",
        "$X_2$, $\\ldots$, $X_n$ are Gaussian distributed,\n",
        "$X_1^2 + X_2^2 + \\cdots + X_n^2$ is $\\chi^2$-distributed.\n",
        "\n",
        "**Parameters.** There is only one parameter, the degrees of\n",
        "freedom $n$.\n",
        "\n",
        "**Probability density function.**\n",
        "\\begin{align}\n",
        "  P(x;n) \\equiv \\chi^2_n(x;n) = \\frac{1}{2^{n/2}\\Gamma\\left(\\frac{n}{2}\\right)}\\,\n",
        "x^{\\frac{n}{2}-1}\\,\\mathrm{e}^{-x/2}.\n",
        "\\end{align}"
      ],
      "metadata": {}
    },
    {
      "cell_type": "code",
      "source": [
        "x = np.linspace(0, 30, 200)\n",
        "p = plot_dists(x, st.chi2, (10,), ('n'), 'Chi-square')\n",
        "bokeh.io.show(p)"
      ],
      "outputs": [],
      "execution_count": null,
      "metadata": {
        "collapsed": false,
        "execution": {
          "shell.execute_reply": "2020-12-16T14:41:39.360Z",
          "iopub.status.busy": "2020-12-16T14:41:43.218Z",
          "iopub.execute_input": "2020-12-16T14:41:43.249Z",
          "iopub.status.idle": "2020-12-16T14:41:43.359Z"
        }
      }
    },
    {
      "cell_type": "markdown",
      "source": [
        "### Student-t/Cauchy distribution\n",
        "\n",
        "**Story.**  We get this distribution whenever we marginalize\n",
        "an unknown $\\sigma$ out of a Gaussian distribution with a Jeffreys\n",
        "prior for $\\sigma$.\n",
        "\n",
        "**Parameters.** The Student-t distribution is peaked, and its\n",
        "peak is located at $m$.  The peak's width is dictated by parameter\n",
        "$s$.  Finally, we define the \"degrees of freedom\" as $n$.\n",
        "\n",
        "**Example.** The story says it all!\n",
        "\n",
        "**Probability density function.**\n",
        "\n",
        "$ \\begin{align}\n",
        "P(x;m, s, n) = \\frac{\\Gamma\\left(\\frac{n}{2}\\right)}{\\Gamma\\left(\\frac{n+1}{2}\\right)}\\,\n",
        "\\frac{\\sqrt{\\pi n s^2}}{\\left(1 + \\frac{(x-m)^2}{ns^2}\\right)^{\\frac{n+1}{2}}}.\n",
        "\\end{align}$\n",
        "\n",
        "**Notes.** For $n\\to \\infty$, we get a Gaussian distribution.\n",
        "When $n = 1$, we get the **Cauchy distribution**,\n",
        "\n",
        "$\\begin{align}\n",
        "P(x;m, s) = \\left[\\pi s \\left(\\frac{x-m}{s}\\right)^2\\right]^{-1}.\n",
        "\\end{align}$"
      ],
      "metadata": {}
    },
    {
      "cell_type": "code",
      "source": [
        "x = np.linspace(0, 20, 200)\n",
        "p = plot_dists(x, st.t, (5, 10, 2), ('n', 'm', 's'), 'Student-t')\n",
        "bokeh.io.show(p)"
      ],
      "outputs": [
        {
          "output_type": "display_data",
          "data": {
            "text/html": "\n\n\n\n\n\n  <div class=\"bk-root\" id=\"e36e3fd0-fb30-4798-8596-f518b70af4cf\" data-root-id=\"1617\"></div>\n"
          },
          "metadata": {}
        },
        {
          "output_type": "display_data",
          "data": {
            "application/javascript": "(function(root) {\n  function embed_document(root) {\n    \n  var docs_json = {\"7d98cf29-d599-4791-a3af-cc388177c076\":{\"roots\":{\"references\":[{\"attributes\":{\"children\":[{\"id\":\"1557\"},{\"id\":\"1583\"}]},\"id\":\"1617\",\"type\":\"Row\"},{\"attributes\":{},\"id\":\"1578\",\"type\":\"ResetTool\"},{\"attributes\":{\"line_color\":\"dodgerblue\",\"line_width\":3,\"x\":{\"field\":\"x\"},\"y\":{\"field\":\"y\"}},\"id\":\"1608\",\"type\":\"Line\"},{\"attributes\":{\"active_drag\":\"auto\",\"active_inspect\":\"auto\",\"active_multi\":null,\"active_scroll\":\"auto\",\"active_tap\":\"auto\",\"tools\":[{\"id\":\"1600\"},{\"id\":\"1601\"},{\"id\":\"1602\"}]},\"id\":\"1603\",\"type\":\"Toolbar\"},{\"attributes\":{},\"id\":\"1576\",\"type\":\"PanTool\"},{\"attributes\":{\"axis_label\":\"x\",\"formatter\":{\"id\":\"1674\"},\"ticker\":{\"id\":\"1569\"}},\"id\":\"1568\",\"type\":\"LinearAxis\"},{\"attributes\":{\"data\":{\"x\":{\"__ndarray__\":\"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\",\"dtype\":\"float64\",\"order\":\"little\",\"shape\":[200]},\"y\":{\"__ndarray__\":\"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\",\"dtype\":\"float64\",\"order\":\"little\",\"shape\":[200]}},\"selected\":{\"id\":\"1681\"},\"selection_policy\":{\"id\":\"1680\"}},\"id\":\"1607\",\"type\":\"ColumnDataSource\"},{\"attributes\":{\"end\":1.05,\"start\":-0.05},\"id\":\"1586\",\"type\":\"Range1d\"},{\"attributes\":{},\"id\":\"1588\",\"type\":\"LinearScale\"},{\"attributes\":{\"line_alpha\":0.1,\"line_color\":\"dodgerblue\",\"line_width\":3,\"x\":{\"field\":\"x\"},\"y\":{\"field\":\"y\"}},\"id\":\"1614\",\"type\":\"Line\"},{\"attributes\":{\"source\":{\"id\":\"1612\"}},\"id\":\"1616\",\"type\":\"CDSView\"},{\"attributes\":{},\"id\":\"1590\",\"type\":\"LinearScale\"},{\"attributes\":{\"data_source\":{\"id\":\"1612\"},\"glyph\":{\"id\":\"1613\"},\"hover_glyph\":null,\"muted_glyph\":null,\"nonselection_glyph\":{\"id\":\"1614\"},\"selection_glyph\":null,\"view\":{\"id\":\"1616\"}},\"id\":\"1615\",\"type\":\"GlyphRenderer\"},{\"attributes\":{\"below\":[{\"id\":\"1592\"}],\"center\":[{\"id\":\"1595\"},{\"id\":\"1599\"}],\"left\":[{\"id\":\"1596\"}],\"plot_height\":250,\"plot_width\":325,\"renderers\":[{\"id\":\"1615\"}],\"title\":{\"id\":\"1670\"},\"toolbar\":{\"id\":\"1603\"},\"x_range\":{\"id\":\"1584\"},\"x_scale\":{\"id\":\"1588\"},\"y_range\":{\"id\":\"1586\"},\"y_scale\":{\"id\":\"1590\"}},\"id\":\"1583\",\"subtype\":\"Figure\",\"type\":\"Plot\"},{\"attributes\":{\"axis_label\":\"x\",\"formatter\":{\"id\":\"1678\"},\"ticker\":{\"id\":\"1593\"}},\"id\":\"1592\",\"type\":\"LinearAxis\"},{\"attributes\":{},\"id\":\"1577\",\"type\":\"WheelZoomTool\"},{\"attributes\":{},\"id\":\"1566\",\"type\":\"LinearScale\"},{\"attributes\":{\"active_drag\":\"auto\",\"active_inspect\":\"auto\",\"active_multi\":null,\"active_scroll\":\"auto\",\"active_tap\":\"auto\",\"tools\":[{\"id\":\"1576\"},{\"id\":\"1577\"},{\"id\":\"1578\"}]},\"id\":\"1579\",\"type\":\"Toolbar\"},{\"attributes\":{\"text\":\"Student-t, n = 5, m = 10, s = 2\"},\"id\":\"1558\",\"type\":\"Title\"},{\"attributes\":{\"line_color\":\"dodgerblue\",\"line_width\":3,\"x\":{\"field\":\"x\"},\"y\":{\"field\":\"y\"}},\"id\":\"1613\",\"type\":\"Line\"},{\"attributes\":{},\"id\":\"1593\",\"type\":\"BasicTicker\"},{\"attributes\":{\"text\":\"\"},\"id\":\"1670\",\"type\":\"Title\"},{\"attributes\":{\"axis\":{\"id\":\"1592\"},\"ticker\":null},\"id\":\"1595\",\"type\":\"Grid\"},{\"attributes\":{},\"id\":\"1564\",\"type\":\"LinearScale\"},{\"attributes\":{},\"id\":\"1672\",\"type\":\"BasicTickFormatter\"},{\"attributes\":{\"axis_label\":\"F(k; n, m, s)\",\"formatter\":{\"id\":\"1676\"},\"ticker\":{\"id\":\"1597\"}},\"id\":\"1596\",\"type\":\"LinearAxis\"},{\"attributes\":{},\"id\":\"1674\",\"type\":\"BasicTickFormatter\"},{\"attributes\":{},\"id\":\"1597\",\"type\":\"BasicTicker\"},{\"attributes\":{},\"id\":\"1562\",\"type\":\"DataRange1d\"},{\"attributes\":{},\"id\":\"1584\",\"type\":\"DataRange1d\"},{\"attributes\":{},\"id\":\"1676\",\"type\":\"BasicTickFormatter\"},{\"attributes\":{\"axis\":{\"id\":\"1596\"},\"dimension\":1,\"ticker\":null},\"id\":\"1599\",\"type\":\"Grid\"},{\"attributes\":{},\"id\":\"1678\",\"type\":\"BasicTickFormatter\"},{\"attributes\":{},\"id\":\"1601\",\"type\":\"WheelZoomTool\"},{\"attributes\":{\"below\":[{\"id\":\"1568\"}],\"center\":[{\"id\":\"1571\"},{\"id\":\"1575\"}],\"left\":[{\"id\":\"1572\"}],\"plot_height\":250,\"plot_width\":325,\"renderers\":[{\"id\":\"1610\"}],\"title\":{\"id\":\"1558\"},\"toolbar\":{\"id\":\"1579\"},\"x_range\":{\"id\":\"1584\"},\"x_scale\":{\"id\":\"1564\"},\"y_range\":{\"id\":\"1562\"},\"y_scale\":{\"id\":\"1566\"}},\"id\":\"1557\",\"subtype\":\"Figure\",\"type\":\"Plot\"},{\"attributes\":{},\"id\":\"1573\",\"type\":\"BasicTicker\"},{\"attributes\":{},\"id\":\"1680\",\"type\":\"UnionRenderers\"},{\"attributes\":{\"data\":{\"x\":{\"__ndarray__\":\"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\",\"dtype\":\"float64\",\"order\":\"little\",\"shape\":[200]},\"y\":{\"__ndarray__\":\"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\",\"dtype\":\"float64\",\"order\":\"little\",\"shape\":[200]}},\"selected\":{\"id\":\"1683\"},\"selection_policy\":{\"id\":\"1682\"}},\"id\":\"1612\",\"type\":\"ColumnDataSource\"},{\"attributes\":{},\"id\":\"1600\",\"type\":\"PanTool\"},{\"attributes\":{\"axis\":{\"id\":\"1568\"},\"ticker\":null},\"id\":\"1571\",\"type\":\"Grid\"},{\"attributes\":{},\"id\":\"1681\",\"type\":\"Selection\"},{\"attributes\":{},\"id\":\"1602\",\"type\":\"ResetTool\"},{\"attributes\":{},\"id\":\"1569\",\"type\":\"BasicTicker\"},{\"attributes\":{},\"id\":\"1682\",\"type\":\"UnionRenderers\"},{\"attributes\":{\"axis_label\":\"P(x; n, m, s)\",\"formatter\":{\"id\":\"1672\"},\"ticker\":{\"id\":\"1573\"}},\"id\":\"1572\",\"type\":\"LinearAxis\"},{\"attributes\":{},\"id\":\"1683\",\"type\":\"Selection\"},{\"attributes\":{\"axis\":{\"id\":\"1572\"},\"dimension\":1,\"ticker\":null},\"id\":\"1575\",\"type\":\"Grid\"},{\"attributes\":{\"line_alpha\":0.1,\"line_color\":\"dodgerblue\",\"line_width\":3,\"x\":{\"field\":\"x\"},\"y\":{\"field\":\"y\"}},\"id\":\"1609\",\"type\":\"Line\"},{\"attributes\":{\"source\":{\"id\":\"1607\"}},\"id\":\"1611\",\"type\":\"CDSView\"},{\"attributes\":{\"data_source\":{\"id\":\"1607\"},\"glyph\":{\"id\":\"1608\"},\"hover_glyph\":null,\"muted_glyph\":null,\"nonselection_glyph\":{\"id\":\"1609\"},\"selection_glyph\":null,\"view\":{\"id\":\"1611\"}},\"id\":\"1610\",\"type\":\"GlyphRenderer\"}],\"root_ids\":[\"1617\"]},\"title\":\"Bokeh Application\",\"version\":\"2.2.3\"}};\n  var render_items = [{\"docid\":\"7d98cf29-d599-4791-a3af-cc388177c076\",\"root_ids\":[\"1617\"],\"roots\":{\"1617\":\"e36e3fd0-fb30-4798-8596-f518b70af4cf\"}}];\n  root.Bokeh.embed.embed_items_notebook(docs_json, render_items);\n\n  }\n  if (root.Bokeh !== undefined) {\n    embed_document(root);\n  } else {\n    var attempts = 0;\n    var timer = setInterval(function(root) {\n      if (root.Bokeh !== undefined) {\n        clearInterval(timer);\n        embed_document(root);\n      } else {\n        attempts++;\n        if (attempts > 100) {\n          clearInterval(timer);\n          console.log(\"Bokeh: ERROR: Unable to run BokehJS code because BokehJS library is missing\");\n        }\n      }\n    }, 10, root)\n  }\n})(window);",
            "application/vnd.bokehjs_exec.v0+json": ""
          },
          "metadata": {
            "application/vnd.bokehjs_exec.v0+json": {
              "id": "1617"
            }
          }
        }
      ],
      "execution_count": 11,
      "metadata": {
        "collapsed": false,
        "execution": {
          "shell.execute_reply": "2020-12-17T08:53:25.144Z",
          "iopub.status.busy": "2020-12-17T08:53:24.549Z",
          "iopub.execute_input": "2020-12-17T08:53:24.635Z",
          "iopub.status.idle": "2020-12-17T08:53:24.948Z"
        }
      }
    },
    {
      "cell_type": "markdown",
      "source": [
        "### Exponential distribution\n",
        "\n",
        "**Story.** This is the waiting time for an arrival from a\n",
        "Poisson process.  I.e., the inter-arrival time of a Poisson process is\n",
        "Exponentially distributed.\n",
        "\n",
        "**Parameter.** The single parameter is the average arrival\n",
        "rate, $r$.\n",
        "\n",
        "**Example.** The time between conformational switches in a\n",
        "protein is Exponentially distributed (under simple mass action\n",
        "kinetics).\n",
        "\n",
        "**Probability density function.**\n",
        "\\begin{align}\n",
        "P(x;r) = r \\mathrm{e}^{-rx}.\n",
        "\\end{align}\n",
        "\n",
        "Alternatively, we could parametrize it as\n",
        "\n",
        "\\begin{align}\n",
        "P(x;\\lambda) = \\frac{1}{\\lambda}\\, \\mathrm{e}^{-x/\\lambda}.\n",
        "\\end{align}\n",
        "\n",
        "**Notes.** The Exponential distribution is the continuous\n",
        "analog of the Geometric distribution.  The \"rate\" in the Exponential\n",
        "distribution is analogous to the probability of success of the\n",
        "Bernoulli trial. Note also that because they are uncorrelated, the\n",
        "amount of time between any two arrivals is independent of all other\n",
        "inter-arrival times."
      ],
      "metadata": {}
    },
    {
      "cell_type": "code",
      "source": [
        "x = np.linspace(0, 10, 200)\n",
        "p = plot_dists(x, st.expon, (0,), ('λ',), 'Exponential')\n",
        "p.children[0].title.text = 'Exponential, λ = 1'\n",
        "bokeh.io.show(p)"
      ],
      "outputs": [
        {
          "output_type": "display_data",
          "data": {
            "text/html": "\n\n\n\n\n\n  <div class=\"bk-root\" id=\"9217488c-a019-42c9-915e-40b2df292f17\" data-root-id=\"2099\"></div>\n"
          },
          "metadata": {}
        },
        {
          "output_type": "display_data",
          "data": {
            "application/javascript": "(function(root) {\n  function embed_document(root) {\n    \n  var docs_json = {\"a1d856d4-6948-48a6-84b9-10fc932a091b\":{\"roots\":{\"references\":[{\"attributes\":{\"children\":[{\"id\":\"2039\"},{\"id\":\"2065\"}]},\"id\":\"2099\",\"type\":\"Row\"},{\"attributes\":{},\"id\":\"2075\",\"type\":\"BasicTicker\"},{\"attributes\":{\"source\":{\"id\":\"2094\"}},\"id\":\"2098\",\"type\":\"CDSView\"},{\"attributes\":{\"axis\":{\"id\":\"2050\"},\"ticker\":null},\"id\":\"2053\",\"type\":\"Grid\"},{\"attributes\":{\"data_source\":{\"id\":\"2094\"},\"glyph\":{\"id\":\"2095\"},\"hover_glyph\":null,\"muted_glyph\":null,\"nonselection_glyph\":{\"id\":\"2096\"},\"selection_glyph\":null,\"view\":{\"id\":\"2098\"}},\"id\":\"2097\",\"type\":\"GlyphRenderer\"},{\"attributes\":{\"axis\":{\"id\":\"2074\"},\"ticker\":null},\"id\":\"2077\",\"type\":\"Grid\"},{\"attributes\":{\"axis_label\":\"P(x; \\u03bb)\",\"formatter\":{\"id\":\"2184\"},\"ticker\":{\"id\":\"2055\"}},\"id\":\"2054\",\"type\":\"LinearAxis\"},{\"attributes\":{\"data\":{\"x\":{\"__ndarray__\":\"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\",\"dtype\":\"float64\",\"order\":\"little\",\"shape\":[200]},\"y\":{\"__ndarray__\":\"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\",\"dtype\":\"float64\",\"order\":\"little\",\"shape\":[200]}},\"selected\":{\"id\":\"2193\"},\"selection_policy\":{\"id\":\"2192\"}},\"id\":\"2089\",\"type\":\"ColumnDataSource\"},{\"attributes\":{},\"id\":\"2055\",\"type\":\"BasicTicker\"},{\"attributes\":{},\"id\":\"2082\",\"type\":\"PanTool\"},{\"attributes\":{\"text\":\"\"},\"id\":\"2182\",\"type\":\"Title\"},{\"attributes\":{\"axis\":{\"id\":\"2054\"},\"dimension\":1,\"ticker\":null},\"id\":\"2057\",\"type\":\"Grid\"},{\"attributes\":{},\"id\":\"2184\",\"type\":\"BasicTickFormatter\"},{\"attributes\":{},\"id\":\"2083\",\"type\":\"WheelZoomTool\"},{\"attributes\":{},\"id\":\"2186\",\"type\":\"BasicTickFormatter\"},{\"attributes\":{},\"id\":\"2084\",\"type\":\"ResetTool\"},{\"attributes\":{\"axis\":{\"id\":\"2078\"},\"dimension\":1,\"ticker\":null},\"id\":\"2081\",\"type\":\"Grid\"},{\"attributes\":{},\"id\":\"2188\",\"type\":\"BasicTickFormatter\"},{\"attributes\":{},\"id\":\"2058\",\"type\":\"PanTool\"},{\"attributes\":{\"active_drag\":\"auto\",\"active_inspect\":\"auto\",\"active_multi\":null,\"active_scroll\":\"auto\",\"active_tap\":\"auto\",\"tools\":[{\"id\":\"2082\"},{\"id\":\"2083\"},{\"id\":\"2084\"}]},\"id\":\"2085\",\"type\":\"Toolbar\"},{\"attributes\":{},\"id\":\"2190\",\"type\":\"BasicTickFormatter\"},{\"attributes\":{},\"id\":\"2059\",\"type\":\"WheelZoomTool\"},{\"attributes\":{},\"id\":\"2192\",\"type\":\"UnionRenderers\"},{\"attributes\":{},\"id\":\"2060\",\"type\":\"ResetTool\"},{\"attributes\":{},\"id\":\"2193\",\"type\":\"Selection\"},{\"attributes\":{\"below\":[{\"id\":\"2050\"}],\"center\":[{\"id\":\"2053\"},{\"id\":\"2057\"}],\"left\":[{\"id\":\"2054\"}],\"plot_height\":250,\"plot_width\":325,\"renderers\":[{\"id\":\"2092\"}],\"title\":{\"id\":\"2040\"},\"toolbar\":{\"id\":\"2061\"},\"x_range\":{\"id\":\"2066\"},\"x_scale\":{\"id\":\"2046\"},\"y_range\":{\"id\":\"2044\"},\"y_scale\":{\"id\":\"2048\"}},\"id\":\"2039\",\"subtype\":\"Figure\",\"type\":\"Plot\"},{\"attributes\":{\"active_drag\":\"auto\",\"active_inspect\":\"auto\",\"active_multi\":null,\"active_scroll\":\"auto\",\"active_tap\":\"auto\",\"tools\":[{\"id\":\"2058\"},{\"id\":\"2059\"},{\"id\":\"2060\"}]},\"id\":\"2061\",\"type\":\"Toolbar\"},{\"attributes\":{\"below\":[{\"id\":\"2074\"}],\"center\":[{\"id\":\"2077\"},{\"id\":\"2081\"}],\"left\":[{\"id\":\"2078\"}],\"plot_height\":250,\"plot_width\":325,\"renderers\":[{\"id\":\"2097\"}],\"title\":{\"id\":\"2182\"},\"toolbar\":{\"id\":\"2085\"},\"x_range\":{\"id\":\"2066\"},\"x_scale\":{\"id\":\"2070\"},\"y_range\":{\"id\":\"2068\"},\"y_scale\":{\"id\":\"2072\"}},\"id\":\"2065\",\"subtype\":\"Figure\",\"type\":\"Plot\"},{\"attributes\":{},\"id\":\"2194\",\"type\":\"UnionRenderers\"},{\"attributes\":{},\"id\":\"2066\",\"type\":\"DataRange1d\"},{\"attributes\":{},\"id\":\"2195\",\"type\":\"Selection\"},{\"attributes\":{\"data\":{\"x\":{\"__ndarray__\":\"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\",\"dtype\":\"float64\",\"order\":\"little\",\"shape\":[200]},\"y\":{\"__ndarray__\":\"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\",\"dtype\":\"float64\",\"order\":\"little\",\"shape\":[200]}},\"selected\":{\"id\":\"2195\"},\"selection_policy\":{\"id\":\"2194\"}},\"id\":\"2094\",\"type\":\"ColumnDataSource\"},{\"attributes\":{},\"id\":\"2079\",\"type\":\"BasicTicker\"},{\"attributes\":{\"text\":\"Exponential, \\u03bb = 1\"},\"id\":\"2040\",\"type\":\"Title\"},{\"attributes\":{\"axis_label\":\"F(k; \\u03bb)\",\"formatter\":{\"id\":\"2188\"},\"ticker\":{\"id\":\"2079\"}},\"id\":\"2078\",\"type\":\"LinearAxis\"},{\"attributes\":{\"line_alpha\":0.1,\"line_color\":\"dodgerblue\",\"line_width\":3,\"x\":{\"field\":\"x\"},\"y\":{\"field\":\"y\"}},\"id\":\"2091\",\"type\":\"Line\"},{\"attributes\":{\"source\":{\"id\":\"2089\"}},\"id\":\"2093\",\"type\":\"CDSView\"},{\"attributes\":{},\"id\":\"2044\",\"type\":\"DataRange1d\"},{\"attributes\":{\"data_source\":{\"id\":\"2089\"},\"glyph\":{\"id\":\"2090\"},\"hover_glyph\":null,\"muted_glyph\":null,\"nonselection_glyph\":{\"id\":\"2091\"},\"selection_glyph\":null,\"view\":{\"id\":\"2093\"}},\"id\":\"2092\",\"type\":\"GlyphRenderer\"},{\"attributes\":{\"end\":1.05,\"start\":-0.05},\"id\":\"2068\",\"type\":\"Range1d\"},{\"attributes\":{},\"id\":\"2046\",\"type\":\"LinearScale\"},{\"attributes\":{\"line_color\":\"dodgerblue\",\"line_width\":3,\"x\":{\"field\":\"x\"},\"y\":{\"field\":\"y\"}},\"id\":\"2090\",\"type\":\"Line\"},{\"attributes\":{},\"id\":\"2070\",\"type\":\"LinearScale\"},{\"attributes\":{},\"id\":\"2048\",\"type\":\"LinearScale\"},{\"attributes\":{},\"id\":\"2072\",\"type\":\"LinearScale\"},{\"attributes\":{\"axis_label\":\"x\",\"formatter\":{\"id\":\"2186\"},\"ticker\":{\"id\":\"2051\"}},\"id\":\"2050\",\"type\":\"LinearAxis\"},{\"attributes\":{\"line_alpha\":0.1,\"line_color\":\"dodgerblue\",\"line_width\":3,\"x\":{\"field\":\"x\"},\"y\":{\"field\":\"y\"}},\"id\":\"2096\",\"type\":\"Line\"},{\"attributes\":{\"line_color\":\"dodgerblue\",\"line_width\":3,\"x\":{\"field\":\"x\"},\"y\":{\"field\":\"y\"}},\"id\":\"2095\",\"type\":\"Line\"},{\"attributes\":{\"axis_label\":\"x\",\"formatter\":{\"id\":\"2190\"},\"ticker\":{\"id\":\"2075\"}},\"id\":\"2074\",\"type\":\"LinearAxis\"},{\"attributes\":{},\"id\":\"2051\",\"type\":\"BasicTicker\"}],\"root_ids\":[\"2099\"]},\"title\":\"Bokeh Application\",\"version\":\"2.2.3\"}};\n  var render_items = [{\"docid\":\"a1d856d4-6948-48a6-84b9-10fc932a091b\",\"root_ids\":[\"2099\"],\"roots\":{\"2099\":\"9217488c-a019-42c9-915e-40b2df292f17\"}}];\n  root.Bokeh.embed.embed_items_notebook(docs_json, render_items);\n\n  }\n  if (root.Bokeh !== undefined) {\n    embed_document(root);\n  } else {\n    var attempts = 0;\n    var timer = setInterval(function(root) {\n      if (root.Bokeh !== undefined) {\n        clearInterval(timer);\n        embed_document(root);\n      } else {\n        attempts++;\n        if (attempts > 100) {\n          clearInterval(timer);\n          console.log(\"Bokeh: ERROR: Unable to run BokehJS code because BokehJS library is missing\");\n        }\n      }\n    }, 10, root)\n  }\n})(window);",
            "application/vnd.bokehjs_exec.v0+json": ""
          },
          "metadata": {
            "application/vnd.bokehjs_exec.v0+json": {
              "id": "2099"
            }
          }
        }
      ],
      "execution_count": 14,
      "metadata": {
        "collapsed": false,
        "execution": {
          "shell.execute_reply": "2020-12-17T09:05:59.825Z",
          "iopub.status.busy": "2020-12-17T09:05:59.563Z",
          "iopub.execute_input": "2020-12-17T09:05:59.584Z",
          "iopub.status.idle": "2020-12-17T09:05:59.655Z"
        }
      }
    },
    {
      "cell_type": "markdown",
      "source": [
        "### Gamma distribution\n",
        "\n",
        "**Story.** The amount of time we have to wait for $a$ arrivals\n",
        "of a Poisson process.  More concretely, if we have events, $X_1$,\n",
        "$X_2$, $\\ldots$, $X_a$ that are exponentially distributed,\n",
        "$X_1 + X_2 + \\cdots + X_a$ is gamma distributed.\n",
        "\n",
        "**Parameters.** The number of arrivals, $a$, and the rate of\n",
        "arrivals, $r$.\n",
        "\n",
        "**Example.** Any multistep process where each step happens at\n",
        "the same rate.  This is common in molecular rearrangements, and we\n",
        "will use it in class to describe the nature of processes triggering\n",
        "microtubule catastrophe.\n",
        "\n",
        "**Probability density function.**\n",
        "\n",
        "$\\begin{align}\n",
        "P(x;a, r) = \\frac{1}{\\Gamma(a)}\\,\\frac{(rx)^a}{x}\\,\\mathrm{e}^{-rx},\n",
        "\\end{align}$\n",
        "\n",
        "where $\\Gamma(a)$ is the gamma function.\n",
        "\n",
        "**Notes.** The Gamma distribution is the continuous\n",
        "analog of the Negative Binomial distribution."
      ],
      "metadata": {}
    },
    {
      "cell_type": "code",
      "source": [
        "x = np.linspace(0, 10, 200)\n",
        "p = plot_dists(x, st.gamma, (3, 0), ('a', 'r'), 'Gamma')\n",
        "p.children[0].title.text = 'Gamma, a = 3, r = 1'\n",
        "bokeh.io.show(p)"
      ],
      "outputs": [
        {
          "output_type": "display_data",
          "data": {
            "text/html": "\n\n\n\n\n\n  <div class=\"bk-root\" id=\"a65e8e07-2dd3-4e77-bfde-4fb0b79991a4\" data-root-id=\"2331\"></div>\n"
          },
          "metadata": {}
        },
        {
          "output_type": "display_data",
          "data": {
            "application/javascript": "(function(root) {\n  function embed_document(root) {\n    \n  var docs_json = {\"2d8cc66b-bfef-465f-bfd0-88ee966082b3\":{\"roots\":{\"references\":[{\"attributes\":{\"children\":[{\"id\":\"2271\"},{\"id\":\"2297\"}]},\"id\":\"2331\",\"type\":\"Row\"},{\"attributes\":{\"below\":[{\"id\":\"2282\"}],\"center\":[{\"id\":\"2285\"},{\"id\":\"2289\"}],\"left\":[{\"id\":\"2286\"}],\"plot_height\":250,\"plot_width\":325,\"renderers\":[{\"id\":\"2324\"}],\"title\":{\"id\":\"2272\"},\"toolbar\":{\"id\":\"2293\"},\"x_range\":{\"id\":\"2298\"},\"x_scale\":{\"id\":\"2278\"},\"y_range\":{\"id\":\"2276\"},\"y_scale\":{\"id\":\"2280\"}},\"id\":\"2271\",\"subtype\":\"Figure\",\"type\":\"Plot\"},{\"attributes\":{\"line_color\":\"dodgerblue\",\"line_width\":3,\"x\":{\"field\":\"x\"},\"y\":{\"field\":\"y\"}},\"id\":\"2322\",\"type\":\"Line\"},{\"attributes\":{\"axis\":{\"id\":\"2306\"},\"ticker\":null},\"id\":\"2309\",\"type\":\"Grid\"},{\"attributes\":{},\"id\":\"2276\",\"type\":\"DataRange1d\"},{\"attributes\":{\"line_alpha\":0.1,\"line_color\":\"dodgerblue\",\"line_width\":3,\"x\":{\"field\":\"x\"},\"y\":{\"field\":\"y\"}},\"id\":\"2328\",\"type\":\"Line\"},{\"attributes\":{\"axis_label\":\"F(k; a, r)\",\"formatter\":{\"id\":\"2435\"},\"ticker\":{\"id\":\"2311\"}},\"id\":\"2310\",\"type\":\"LinearAxis\"},{\"attributes\":{\"text\":\"Gamma, a = 3, r = 1\"},\"id\":\"2272\",\"type\":\"Title\"},{\"attributes\":{},\"id\":\"2311\",\"type\":\"BasicTicker\"},{\"attributes\":{},\"id\":\"2280\",\"type\":\"LinearScale\"},{\"attributes\":{},\"id\":\"2441\",\"type\":\"UnionRenderers\"},{\"attributes\":{\"axis\":{\"id\":\"2310\"},\"dimension\":1,\"ticker\":null},\"id\":\"2313\",\"type\":\"Grid\"},{\"attributes\":{\"axis_label\":\"x\",\"formatter\":{\"id\":\"2433\"},\"ticker\":{\"id\":\"2283\"}},\"id\":\"2282\",\"type\":\"LinearAxis\"},{\"attributes\":{\"data\":{\"x\":{\"__ndarray__\":\"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\",\"dtype\":\"float64\",\"order\":\"little\",\"shape\":[200]},\"y\":{\"__ndarray__\":\"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\",\"dtype\":\"float64\",\"order\":\"little\",\"shape\":[200]}},\"selected\":{\"id\":\"2442\"},\"selection_policy\":{\"id\":\"2441\"}},\"id\":\"2326\",\"type\":\"ColumnDataSource\"},{\"attributes\":{},\"id\":\"2278\",\"type\":\"LinearScale\"},{\"attributes\":{\"line_color\":\"dodgerblue\",\"line_width\":3,\"x\":{\"field\":\"x\"},\"y\":{\"field\":\"y\"}},\"id\":\"2327\",\"type\":\"Line\"},{\"attributes\":{},\"id\":\"2304\",\"type\":\"LinearScale\"},{\"attributes\":{},\"id\":\"2314\",\"type\":\"PanTool\"},{\"attributes\":{},\"id\":\"2307\",\"type\":\"BasicTicker\"},{\"attributes\":{},\"id\":\"2315\",\"type\":\"WheelZoomTool\"},{\"attributes\":{},\"id\":\"2283\",\"type\":\"BasicTicker\"},{\"attributes\":{\"axis\":{\"id\":\"2282\"},\"ticker\":null},\"id\":\"2285\",\"type\":\"Grid\"},{\"attributes\":{},\"id\":\"2302\",\"type\":\"LinearScale\"},{\"attributes\":{},\"id\":\"2433\",\"type\":\"BasicTickFormatter\"},{\"attributes\":{},\"id\":\"2316\",\"type\":\"ResetTool\"},{\"attributes\":{\"end\":1.05,\"start\":-0.05},\"id\":\"2300\",\"type\":\"Range1d\"},{\"attributes\":{},\"id\":\"2290\",\"type\":\"PanTool\"},{\"attributes\":{\"axis_label\":\"x\",\"formatter\":{\"id\":\"2437\"},\"ticker\":{\"id\":\"2307\"}},\"id\":\"2306\",\"type\":\"LinearAxis\"},{\"attributes\":{\"active_drag\":\"auto\",\"active_inspect\":\"auto\",\"active_multi\":null,\"active_scroll\":\"auto\",\"active_tap\":\"auto\",\"tools\":[{\"id\":\"2314\"},{\"id\":\"2315\"},{\"id\":\"2316\"}]},\"id\":\"2317\",\"type\":\"Toolbar\"},{\"attributes\":{\"axis_label\":\"P(x; a, r)\",\"formatter\":{\"id\":\"2431\"},\"ticker\":{\"id\":\"2287\"}},\"id\":\"2286\",\"type\":\"LinearAxis\"},{\"attributes\":{\"data_source\":{\"id\":\"2326\"},\"glyph\":{\"id\":\"2327\"},\"hover_glyph\":null,\"muted_glyph\":null,\"nonselection_glyph\":{\"id\":\"2328\"},\"selection_glyph\":null,\"view\":{\"id\":\"2330\"}},\"id\":\"2329\",\"type\":\"GlyphRenderer\"},{\"attributes\":{},\"id\":\"2439\",\"type\":\"UnionRenderers\"},{\"attributes\":{},\"id\":\"2440\",\"type\":\"Selection\"},{\"attributes\":{\"text\":\"\"},\"id\":\"2429\",\"type\":\"Title\"},{\"attributes\":{},\"id\":\"2291\",\"type\":\"WheelZoomTool\"},{\"attributes\":{},\"id\":\"2431\",\"type\":\"BasicTickFormatter\"},{\"attributes\":{},\"id\":\"2442\",\"type\":\"Selection\"},{\"attributes\":{\"below\":[{\"id\":\"2306\"}],\"center\":[{\"id\":\"2309\"},{\"id\":\"2313\"}],\"left\":[{\"id\":\"2310\"}],\"plot_height\":250,\"plot_width\":325,\"renderers\":[{\"id\":\"2329\"}],\"title\":{\"id\":\"2429\"},\"toolbar\":{\"id\":\"2317\"},\"x_range\":{\"id\":\"2298\"},\"x_scale\":{\"id\":\"2302\"},\"y_range\":{\"id\":\"2300\"},\"y_scale\":{\"id\":\"2304\"}},\"id\":\"2297\",\"subtype\":\"Figure\",\"type\":\"Plot\"},{\"attributes\":{},\"id\":\"2287\",\"type\":\"BasicTicker\"},{\"attributes\":{},\"id\":\"2292\",\"type\":\"ResetTool\"},{\"attributes\":{},\"id\":\"2437\",\"type\":\"BasicTickFormatter\"},{\"attributes\":{\"axis\":{\"id\":\"2286\"},\"dimension\":1,\"ticker\":null},\"id\":\"2289\",\"type\":\"Grid\"},{\"attributes\":{\"line_alpha\":0.1,\"line_color\":\"dodgerblue\",\"line_width\":3,\"x\":{\"field\":\"x\"},\"y\":{\"field\":\"y\"}},\"id\":\"2323\",\"type\":\"Line\"},{\"attributes\":{\"data\":{\"x\":{\"__ndarray__\":\"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\",\"dtype\":\"float64\",\"order\":\"little\",\"shape\":[200]},\"y\":{\"__ndarray__\":\"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\",\"dtype\":\"float64\",\"order\":\"little\",\"shape\":[200]}},\"selected\":{\"id\":\"2440\"},\"selection_policy\":{\"id\":\"2439\"}},\"id\":\"2321\",\"type\":\"ColumnDataSource\"},{\"attributes\":{},\"id\":\"2298\",\"type\":\"DataRange1d\"},{\"attributes\":{},\"id\":\"2435\",\"type\":\"BasicTickFormatter\"},{\"attributes\":{\"source\":{\"id\":\"2321\"}},\"id\":\"2325\",\"type\":\"CDSView\"},{\"attributes\":{\"active_drag\":\"auto\",\"active_inspect\":\"auto\",\"active_multi\":null,\"active_scroll\":\"auto\",\"active_tap\":\"auto\",\"tools\":[{\"id\":\"2290\"},{\"id\":\"2291\"},{\"id\":\"2292\"}]},\"id\":\"2293\",\"type\":\"Toolbar\"},{\"attributes\":{\"data_source\":{\"id\":\"2321\"},\"glyph\":{\"id\":\"2322\"},\"hover_glyph\":null,\"muted_glyph\":null,\"nonselection_glyph\":{\"id\":\"2323\"},\"selection_glyph\":null,\"view\":{\"id\":\"2325\"}},\"id\":\"2324\",\"type\":\"GlyphRenderer\"},{\"attributes\":{\"source\":{\"id\":\"2326\"}},\"id\":\"2330\",\"type\":\"CDSView\"}],\"root_ids\":[\"2331\"]},\"title\":\"Bokeh Application\",\"version\":\"2.2.3\"}};\n  var render_items = [{\"docid\":\"2d8cc66b-bfef-465f-bfd0-88ee966082b3\",\"root_ids\":[\"2331\"],\"roots\":{\"2331\":\"a65e8e07-2dd3-4e77-bfde-4fb0b79991a4\"}}];\n  root.Bokeh.embed.embed_items_notebook(docs_json, render_items);\n\n  }\n  if (root.Bokeh !== undefined) {\n    embed_document(root);\n  } else {\n    var attempts = 0;\n    var timer = setInterval(function(root) {\n      if (root.Bokeh !== undefined) {\n        clearInterval(timer);\n        embed_document(root);\n      } else {\n        attempts++;\n        if (attempts > 100) {\n          clearInterval(timer);\n          console.log(\"Bokeh: ERROR: Unable to run BokehJS code because BokehJS library is missing\");\n        }\n      }\n    }, 10, root)\n  }\n})(window);",
            "application/vnd.bokehjs_exec.v0+json": ""
          },
          "metadata": {
            "application/vnd.bokehjs_exec.v0+json": {
              "id": "2331"
            }
          }
        }
      ],
      "execution_count": 15,
      "metadata": {
        "collapsed": false,
        "execution": {
          "shell.execute_reply": "2020-12-17T09:09:02.507Z",
          "iopub.status.busy": "2020-12-17T09:09:02.213Z",
          "iopub.execute_input": "2020-12-17T09:09:02.280Z",
          "iopub.status.idle": "2020-12-17T09:09:02.356Z"
        }
      }
    },
    {
      "cell_type": "markdown",
      "source": [
        "### Weibull distribution\n",
        "\n",
        "**Story.** Distribution of $x = y^\\beta$ if $y$ is\n",
        "exponentially distributed.  For $\\beta > 1$, the longer we have\n",
        "waited, the more likely the event is to come, and vice versa for\n",
        "$\\beta < 1$.\n",
        "\n",
        "**Parameters.** There are two parameters, both strictly\n",
        "positive: the shape parameter $\\beta$, which dictates the shape of the\n",
        "curve, and the scale parameter $\\lambda$, which dictates the rate of\n",
        "arrivals of the event.\n",
        "\n",
        "**Example.** This is a model for aging.  The longer an\n",
        "organism lives, the more likely it is to die.\n",
        "\n",
        "**Probability density function.**\n",
        "\n",
        "\\begin{align}\n",
        "P(x;\\lambda, \\beta) = \\frac{\\beta}{\\lambda}\\left(\\frac{x}{\\lambda}\\right)^{\\beta - 1}\\,\n",
        "\\mathrm{e}^{-(x/\\lambda)^\\beta}.\n",
        "\\end{align}"
      ],
      "metadata": {}
    },
    {
      "cell_type": "code",
      "source": [
        "x = np.linspace(0, 3, 200)\n",
        "p = plot_dists(x, st.frechet_r, (3, 0), ('β', 'λ'), 'Weibull')\n",
        "p.children[0].title.text = 'Weibull, β = 3, λ = 1'\n",
        "bokeh.io.show(p)"
      ],
      "outputs": [
        {
          "output_type": "stream",
          "name": "stderr",
          "text": [
            "C:\\Users\\reddy\\AppData\\Local\\Programs\\Python\\Python36\\lib\\site-packages\\ipykernel_launcher.py:5: DeprecationWarning: `frechet_r` is deprecated!\n",
            "The distribution `frechet_r` is a synonym for `weibull_min`; this historical\n",
            "usage is deprecated because of possible confusion with the (quite different)\n",
            "Frechet distribution.  To preserve the existing behavior of the program, use\n",
            "`scipy.stats.weibull_min`.  For the Frechet distribution (i.e. the Type II\n",
            "extreme value distribution), use `scipy.stats.invweibull`.\n",
            "  \"\"\"\n"
          ]
        },
        {
          "output_type": "display_data",
          "data": {
            "text/html": "\n\n\n\n\n\n  <div class=\"bk-root\" id=\"0d33bc2a-d196-4b6c-95cc-b440d7a14ec2\" data-root-id=\"2578\"></div>\n"
          },
          "metadata": {}
        },
        {
          "output_type": "display_data",
          "data": {
            "application/javascript": "(function(root) {\n  function embed_document(root) {\n    \n  var docs_json = {\"fd5c6535-13e3-4e5b-aa9b-2ac36185431e\":{\"roots\":{\"references\":[{\"attributes\":{\"children\":[{\"id\":\"2518\"},{\"id\":\"2544\"}]},\"id\":\"2578\",\"type\":\"Row\"},{\"attributes\":{},\"id\":\"2699\",\"type\":\"BasicTickFormatter\"},{\"attributes\":{\"active_drag\":\"auto\",\"active_inspect\":\"auto\",\"active_multi\":null,\"active_scroll\":\"auto\",\"active_tap\":\"auto\",\"tools\":[{\"id\":\"2561\"},{\"id\":\"2562\"},{\"id\":\"2563\"}]},\"id\":\"2564\",\"type\":\"Toolbar\"},{\"attributes\":{\"active_drag\":\"auto\",\"active_inspect\":\"auto\",\"active_multi\":null,\"active_scroll\":\"auto\",\"active_tap\":\"auto\",\"tools\":[{\"id\":\"2537\"},{\"id\":\"2538\"},{\"id\":\"2539\"}]},\"id\":\"2540\",\"type\":\"Toolbar\"},{\"attributes\":{},\"id\":\"2693\",\"type\":\"BasicTickFormatter\"},{\"attributes\":{},\"id\":\"2701\",\"type\":\"UnionRenderers\"},{\"attributes\":{},\"id\":\"2530\",\"type\":\"BasicTicker\"},{\"attributes\":{},\"id\":\"2534\",\"type\":\"BasicTicker\"},{\"attributes\":{},\"id\":\"2702\",\"type\":\"Selection\"},{\"attributes\":{},\"id\":\"2703\",\"type\":\"UnionRenderers\"},{\"attributes\":{},\"id\":\"2704\",\"type\":\"Selection\"},{\"attributes\":{\"axis\":{\"id\":\"2529\"},\"ticker\":null},\"id\":\"2532\",\"type\":\"Grid\"},{\"attributes\":{\"line_alpha\":0.1,\"line_color\":\"dodgerblue\",\"line_width\":3,\"x\":{\"field\":\"x\"},\"y\":{\"field\":\"y\"}},\"id\":\"2570\",\"type\":\"Line\"},{\"attributes\":{\"end\":1.05,\"start\":-0.05},\"id\":\"2547\",\"type\":\"Range1d\"},{\"attributes\":{},\"id\":\"2525\",\"type\":\"LinearScale\"},{\"attributes\":{\"below\":[{\"id\":\"2553\"}],\"center\":[{\"id\":\"2556\"},{\"id\":\"2560\"}],\"left\":[{\"id\":\"2557\"}],\"plot_height\":250,\"plot_width\":325,\"renderers\":[{\"id\":\"2576\"}],\"title\":{\"id\":\"2691\"},\"toolbar\":{\"id\":\"2564\"},\"x_range\":{\"id\":\"2545\"},\"x_scale\":{\"id\":\"2549\"},\"y_range\":{\"id\":\"2547\"},\"y_scale\":{\"id\":\"2551\"}},\"id\":\"2544\",\"subtype\":\"Figure\",\"type\":\"Plot\"},{\"attributes\":{},\"id\":\"2549\",\"type\":\"LinearScale\"},{\"attributes\":{},\"id\":\"2538\",\"type\":\"WheelZoomTool\"},{\"attributes\":{},\"id\":\"2551\",\"type\":\"LinearScale\"},{\"attributes\":{\"axis_label\":\"x\",\"formatter\":{\"id\":\"2695\"},\"ticker\":{\"id\":\"2530\"}},\"id\":\"2529\",\"type\":\"LinearAxis\"},{\"attributes\":{\"source\":{\"id\":\"2568\"}},\"id\":\"2572\",\"type\":\"CDSView\"},{\"attributes\":{},\"id\":\"2537\",\"type\":\"PanTool\"},{\"attributes\":{\"data_source\":{\"id\":\"2568\"},\"glyph\":{\"id\":\"2569\"},\"hover_glyph\":null,\"muted_glyph\":null,\"nonselection_glyph\":{\"id\":\"2570\"},\"selection_glyph\":null,\"view\":{\"id\":\"2572\"}},\"id\":\"2571\",\"type\":\"GlyphRenderer\"},{\"attributes\":{\"axis_label\":\"x\",\"formatter\":{\"id\":\"2699\"},\"ticker\":{\"id\":\"2554\"}},\"id\":\"2553\",\"type\":\"LinearAxis\"},{\"attributes\":{},\"id\":\"2527\",\"type\":\"LinearScale\"},{\"attributes\":{},\"id\":\"2554\",\"type\":\"BasicTicker\"},{\"attributes\":{},\"id\":\"2523\",\"type\":\"DataRange1d\"},{\"attributes\":{\"axis\":{\"id\":\"2533\"},\"dimension\":1,\"ticker\":null},\"id\":\"2536\",\"type\":\"Grid\"},{\"attributes\":{\"line_color\":\"dodgerblue\",\"line_width\":3,\"x\":{\"field\":\"x\"},\"y\":{\"field\":\"y\"}},\"id\":\"2569\",\"type\":\"Line\"},{\"attributes\":{\"axis\":{\"id\":\"2553\"},\"ticker\":null},\"id\":\"2556\",\"type\":\"Grid\"},{\"attributes\":{},\"id\":\"2539\",\"type\":\"ResetTool\"},{\"attributes\":{\"axis_label\":\"F(k; \\u03b2, \\u03bb)\",\"formatter\":{\"id\":\"2697\"},\"ticker\":{\"id\":\"2558\"}},\"id\":\"2557\",\"type\":\"LinearAxis\"},{\"attributes\":{},\"id\":\"2545\",\"type\":\"DataRange1d\"},{\"attributes\":{\"axis_label\":\"P(x; \\u03b2, \\u03bb)\",\"formatter\":{\"id\":\"2693\"},\"ticker\":{\"id\":\"2534\"}},\"id\":\"2533\",\"type\":\"LinearAxis\"},{\"attributes\":{},\"id\":\"2558\",\"type\":\"BasicTicker\"},{\"attributes\":{\"line_alpha\":0.1,\"line_color\":\"dodgerblue\",\"line_width\":3,\"x\":{\"field\":\"x\"},\"y\":{\"field\":\"y\"}},\"id\":\"2575\",\"type\":\"Line\"},{\"attributes\":{\"text\":\"Weibull, \\u03b2 = 3, \\u03bb = 1\"},\"id\":\"2519\",\"type\":\"Title\"},{\"attributes\":{\"source\":{\"id\":\"2573\"}},\"id\":\"2577\",\"type\":\"CDSView\"},{\"attributes\":{\"axis\":{\"id\":\"2557\"},\"dimension\":1,\"ticker\":null},\"id\":\"2560\",\"type\":\"Grid\"},{\"attributes\":{\"data_source\":{\"id\":\"2573\"},\"glyph\":{\"id\":\"2574\"},\"hover_glyph\":null,\"muted_glyph\":null,\"nonselection_glyph\":{\"id\":\"2575\"},\"selection_glyph\":null,\"view\":{\"id\":\"2577\"}},\"id\":\"2576\",\"type\":\"GlyphRenderer\"},{\"attributes\":{\"data\":{\"x\":{\"__ndarray__\":\"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\",\"dtype\":\"float64\",\"order\":\"little\",\"shape\":[200]},\"y\":{\"__ndarray__\":\"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\",\"dtype\":\"float64\",\"order\":\"little\",\"shape\":[200]}},\"selected\":{\"id\":\"2702\"},\"selection_policy\":{\"id\":\"2701\"}},\"id\":\"2568\",\"type\":\"ColumnDataSource\"},{\"attributes\":{\"data\":{\"x\":{\"__ndarray__\":\"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\",\"dtype\":\"float64\",\"order\":\"little\",\"shape\":[200]},\"y\":{\"__ndarray__\":\"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\",\"dtype\":\"float64\",\"order\":\"little\",\"shape\":[200]}},\"selected\":{\"id\":\"2704\"},\"selection_policy\":{\"id\":\"2703\"}},\"id\":\"2573\",\"type\":\"ColumnDataSource\"},{\"attributes\":{\"line_color\":\"dodgerblue\",\"line_width\":3,\"x\":{\"field\":\"x\"},\"y\":{\"field\":\"y\"}},\"id\":\"2574\",\"type\":\"Line\"},{\"attributes\":{\"below\":[{\"id\":\"2529\"}],\"center\":[{\"id\":\"2532\"},{\"id\":\"2536\"}],\"left\":[{\"id\":\"2533\"}],\"plot_height\":250,\"plot_width\":325,\"renderers\":[{\"id\":\"2571\"}],\"title\":{\"id\":\"2519\"},\"toolbar\":{\"id\":\"2540\"},\"x_range\":{\"id\":\"2545\"},\"x_scale\":{\"id\":\"2525\"},\"y_range\":{\"id\":\"2523\"},\"y_scale\":{\"id\":\"2527\"}},\"id\":\"2518\",\"subtype\":\"Figure\",\"type\":\"Plot\"},{\"attributes\":{},\"id\":\"2561\",\"type\":\"PanTool\"},{\"attributes\":{\"text\":\"\"},\"id\":\"2691\",\"type\":\"Title\"},{\"attributes\":{},\"id\":\"2695\",\"type\":\"BasicTickFormatter\"},{\"attributes\":{},\"id\":\"2562\",\"type\":\"WheelZoomTool\"},{\"attributes\":{},\"id\":\"2697\",\"type\":\"BasicTickFormatter\"},{\"attributes\":{},\"id\":\"2563\",\"type\":\"ResetTool\"}],\"root_ids\":[\"2578\"]},\"title\":\"Bokeh Application\",\"version\":\"2.2.3\"}};\n  var render_items = [{\"docid\":\"fd5c6535-13e3-4e5b-aa9b-2ac36185431e\",\"root_ids\":[\"2578\"],\"roots\":{\"2578\":\"0d33bc2a-d196-4b6c-95cc-b440d7a14ec2\"}}];\n  root.Bokeh.embed.embed_items_notebook(docs_json, render_items);\n\n  }\n  if (root.Bokeh !== undefined) {\n    embed_document(root);\n  } else {\n    var attempts = 0;\n    var timer = setInterval(function(root) {\n      if (root.Bokeh !== undefined) {\n        clearInterval(timer);\n        embed_document(root);\n      } else {\n        attempts++;\n        if (attempts > 100) {\n          clearInterval(timer);\n          console.log(\"Bokeh: ERROR: Unable to run BokehJS code because BokehJS library is missing\");\n        }\n      }\n    }, 10, root)\n  }\n})(window);",
            "application/vnd.bokehjs_exec.v0+json": ""
          },
          "metadata": {
            "application/vnd.bokehjs_exec.v0+json": {
              "id": "2578"
            }
          }
        }
      ],
      "execution_count": 16,
      "metadata": {
        "collapsed": false,
        "execution": {
          "shell.execute_reply": "2020-12-17T09:12:50.929Z",
          "iopub.status.busy": "2020-12-17T09:12:50.710Z",
          "iopub.execute_input": "2020-12-17T09:12:50.743Z",
          "iopub.status.idle": "2020-12-17T09:12:50.863Z"
        }
      }
    }
  ],
  "metadata": {
    "anaconda-cloud": {},
    "kernelspec": {
      "display_name": "Python [default]",
      "language": "python",
      "name": "python3"
    },
    "language_info": {
      "name": "python",
      "version": "3.6.8",
      "mimetype": "text/x-python",
      "codemirror_mode": {
        "name": "ipython",
        "version": 3
      },
      "pygments_lexer": "ipython3",
      "nbconvert_exporter": "python",
      "file_extension": ".py"
    },
    "nteract": {
      "version": "0.27.0"
    }
  },
  "nbformat": 4,
  "nbformat_minor": 0
}