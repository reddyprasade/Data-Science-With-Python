{
  "cells":[
    {
      "cell_type":"markdown",
      "source":[
        "#### Generating Random Numbers and Setting The Seed\n",
        "When you need to generate random real numbers in a range with equal probability you can draw numbers from a uniform distribution using stats.distribution.rvs(). Python also comes with a library called \"random\" that lets you perform various operations that involve randomization. Let's look at a few functions in the random library:\n",
        "\n",
        "\n",
        "### if My Data is \n",
        "* **Discrete Statistical Distributions**(Discrete Data can only take certain values.counted, With in Specific Range)\n",
        "* **Continuous Statistical Distributions** (Continuous Data can take any value (within a range), human height)"
      ],
      "metadata":{
        
      }
    },
    {
      "cell_type":"code",
      "source":[
        "import random as r\n"
      ],
      "execution_count":1,
      "outputs":[
        
      ],
      "metadata":{
        
      }
    },
    {
      "cell_type":"code",
      "source":[
        "r.randint(0,10) # Get a random integer in the specified range"
      ],
      "execution_count":2,
      "outputs":[
        {
          "data":{
            "text\/plain":[
              "9"
            ]
          },
          "metadata":{
            
          },
          "output_type":"display_data"
        }
      ],
      "metadata":{
        
      }
    },
    {
      "cell_type":"code",
      "source":[
        "r.choice([2,4,6,9]) # Get a random element from a sequence"
      ],
      "execution_count":3,
      "outputs":[
        {
          "data":{
            "text\/plain":[
              "4"
            ]
          },
          "metadata":{
            
          },
          "output_type":"display_data"
        }
      ],
      "metadata":{
        
      }
    },
    {
      "cell_type":"code",
      "source":[
        "r.random()          # Get a real number between 0 and 1"
      ],
      "execution_count":4,
      "outputs":[
        {
          "data":{
            "text\/plain":[
              "0.08274830323146987"
            ]
          },
          "metadata":{
            
          },
          "output_type":"display_data"
        }
      ],
      "metadata":{
        
      }
    },
    {
      "cell_type":"code",
      "source":[
        "r.uniform(0,10)     # Get a real in the specified range"
      ],
      "execution_count":5,
      "outputs":[
        {
          "data":{
            "text\/plain":[
              "3.295796023358779"
            ]
          },
          "metadata":{
            
          },
          "output_type":"display_data"
        }
      ],
      "metadata":{
        
      }
    },
    {
      "cell_type":"markdown",
      "source":[
        "Notice that the random library also lets you generate random uniform numbers. Regardless of the method you use to generate random numbers, however, the result of a random process can differ from one run to the next. Having results vary each time you run a function is often not desirable. For example, if you want a colleague to be able to reproduce your results exactly, you can run into problems when you use randomization. You can ensure that your results are the same each time you use a function that involves randomness by setting the random number generator's seed value to initialize it prior to running the function. Set the random seed with random.seed():"
      ],
      "metadata":{
        
      }
    },
    {
      "cell_type":"code",
      "source":[
        "r.seed(12)  # Set the seed to an arbitrary value\n",
        "\n",
        "print([r.uniform(0,10) for x in range(4)])"
      ],
      "execution_count":6,
      "outputs":[
        {
          "name":"stdout",
          "text":[
            "[4.7457067868854805, 6.574725026572553, 6.664104711248381, 1.4260035292536777]\n"
          ],
          "output_type":"stream"
        }
      ],
      "metadata":{
        
      }
    },
    {
      "cell_type":"code",
      "source":[
        "r.seed(12)  # Set the seed to the same value\n",
        "\n",
        "print([r.uniform(0,10) for x in range(6)])"
      ],
      "execution_count":7,
      "outputs":[
        {
          "name":"stdout",
          "text":[
            "[4.7457067868854805, 6.574725026572553, 6.664104711248381, 1.4260035292536777, 0.1086044309006795, 3.7475449206336444]\n"
          ],
          "output_type":"stream"
        }
      ],
      "metadata":{
        
      }
    },
    {
      "cell_type":"code",
      "source":[
        "r.seed(20)  # Set the seed to the same value\n",
        "\n",
        "print([r.uniform(0,10) for x in range(4)])"
      ],
      "execution_count":8,
      "outputs":[
        {
          "name":"stdout",
          "text":[
            "[9.056396761745207, 6.862541570267026, 7.665092563626442, 9.046162378132736]\n"
          ],
          "output_type":"stream"
        }
      ],
      "metadata":{
        
      }
    },
    {
      "cell_type":"markdown",
      "source":[
        "**Notice** that we generated the exact same numbers with both calls to random.uniform() because we set the same seed before each call. If we had not set the seed, we would have gotten different numbers. This reproducibility illustrates the fact that these random numbers aren't truly random, but rather \"pseudorandom\".\n",
        "\n",
        "Many functions in Python's libraries that use randomness have an optional random seed argument built in so that you don't have to set the seed outside of the function. For instance, the rvs() function has an optional argument random_state, that lets you set the seed.\n",
        "\n",
        "**Note:** The Python standard library \"random\" has a separate internal seed from the numpy library. When using functions from numpy and libraries built on top of numpy (pandas, scipy, scikit-learn) use np.random.seed() to set the seed.\n",
        "\n",
        "---"
      ],
      "metadata":{
        
      }
    },
    {
      "cell_type":"markdown",
      "source":[
        "### Probability Distributions \n",
        "\n",
        "Many statistical tools and techniques used in data analysis are based on probability. Probability measures how likely it is for an event to occur on a scale from 0 (the event never occurs) to 1 (the event always occurs). When working with data, variables in the columns of the data set can be thought of as random variables: variables that vary due to chance. A probability distribution describes how a random variable is distributed; it tells us which values a random variable is most likely to take on and which values are less likely.\n",
        "\n",
        "In statistics, there are a range of precisely defined probability distributions that have different shapes and can be used to model different types of random events. In this lesson we'll discuss some common probability distributions and how to work with them in Python.\n",
        "\n",
        "\n",
        "* Probability Distributions are mathematical functions that describe all the possible values and likelihoods that a random variable can take within a given range. \n",
        "* Probability distributions help model random phenomena, enabling us to obtain estimates of the probability that a certain event may occur.\n",
        "* Common Probability Distributions\n",
        "\n",
        "The most common probability distributions are as follows:\n",
        "\n",
        "    * Uniform Distribution\n",
        "    * Binomial Distribution\n",
        "    * Poisson Distribution\n",
        "    * Exponential Distribution\n",
        "    * Normal Distribution\n",
        "\n",
        "\n",
        "Lets Code it in Python\n",
        "![](https:\/\/miro.medium.com\/max\/1924\/1*DmPUIjvecL7KllOamoFSDw.png)"
      ],
      "metadata":{
        
      }
    },
    {
      "cell_type":"markdown",
      "source":[
        "### Uniform Distributions\n",
        "\n",
        "The uniform distribution (https:\/\/en.wikipedia.org\/wiki\/Uniform_distribution_(continuous)) is a probability distribution where each value within a certain range is equally likely to occur and values outside of the range never occur. If we make a density plot of a uniform distribution, it appears flat because no value is any more likely (and hence has any more density) than another.\n",
        "\n",
        "Many useful functions for working with probability distributions in Python are contained in the scipy.stats library. Let's load in some libraries, generate some uniform data and plot a density curve:\n",
        "\n",
        "- The uniform distribution defines an equal probability over a given range of continuous values. \n",
        "- In other words, it is a distribution that has a constant probability.\n",
        "- The probability density function for a continuous uniform distribution on the interval [a,b] is:\n",
        "\n",
        "![](Distributions_images\/uniform-distribution.jpg.webp)"
      ],
      "metadata":{
        
      }
    },
    {
      "cell_type":"markdown",
      "source":[
        "![](Distributions_images\/Uniform_Distribution.svg)"
      ],
      "metadata":{
        
      }
    },
    {
      "cell_type":"code",
      "source":[
        "import random as r\n",
        "import matplotlib.pyplot as plt\n",
        "from scipy.stats import uniform\n",
        "import seaborn as sns\n",
        "import numpy as np\n",
        "import pandas as pd\n",
        "import scipy.stats as stats"
      ],
      "execution_count":9,
      "outputs":[
        
      ],
      "metadata":{
        
      }
    },
    {
      "cell_type":"code",
      "source":[
        "a = 10\n",
        "b = 100"
      ],
      "execution_count":10,
      "outputs":[
        
      ],
      "metadata":{
        
      }
    },
    {
      "cell_type":"code",
      "source":[
        "nums = []\n",
        "for i in range(1000):\n",
        "    temp = r.uniform(a,b)\n",
        "    nums.append(temp)"
      ],
      "execution_count":11,
      "outputs":[
        
      ],
      "metadata":{
        
      }
    },
    {
      "cell_type":"code",
      "source":[
        "plt.hist(nums)"
      ],
      "execution_count":12,
      "outputs":[
        {
          "data":{
            "text\/plain":[
              "(array([120., 109., 101.,  91.,  96.,  87., 100.,  87., 107., 102.]),\n",
              " array([10.07901694, 19.06287185, 28.04672676, 37.03058167, 46.01443658,\n",
              "        54.99829149, 63.9821464 , 72.96600131, 81.94985622, 90.93371113,\n",
              "        99.91756604]),\n",
              " <BarContainer object of 10 artists>)"
            ],
            "image\/png":"[encoded data removed]"
          },
          "metadata":{
            "image\/png":{
              "width":0,
              "height":0
            }
          },
          "output_type":"display_data"
        }
      ],
      "metadata":{
        
      }
    },
    {
      "cell_type":"code",
      "source":[
        "data = uniform.rvs(size=100000)"
      ],
      "execution_count":13,
      "outputs":[
        
      ],
      "metadata":{
        
      }
    },
    {
      "cell_type":"code",
      "source":[
        "ax = sns.displot(data,bins=30)"
      ],
      "execution_count":14,
      "outputs":[
        {
          "data":{
            "image\/png":"[encoded data removed]"
          },
          "metadata":{
            "image\/png":{
              "width":0,
              "height":0
            }
          },
          "output_type":"display_data"
        }
      ],
      "metadata":{
        
      }
    },
    {
      "cell_type":"code",
      "source":[
        "sns.set_style('whitegrid')\n",
        "ax = sns.distplot(data, bins = 30, color = 'k')\n",
        "ax.set(xlabel = 'interval')\n",
        "plt.show()"
      ],
      "execution_count":15,
      "outputs":[
        {
          "name":"stderr",
          "text":[
            "\/opt\/anaconda3\/envs\/datalore-user\/lib\/python3.7\/site-packages\/seaborn\/distributions.py:2551: FutureWarning: `distplot` is a deprecated function and will be removed in a future version. Please adapt your code to use either `displot` (a figure-level function with similar flexibility) or `histplot` (an axes-level function for histograms).\n",
            "  warnings.warn(msg, FutureWarning)\n"
          ],
          "output_type":"stream"
        },
        {
          "data":{
            "image\/png":"[encoded data removed]"
          },
          "metadata":{
            "image\/png":{
              "width":0,
              "height":0
            }
          },
          "output_type":"display_data"
        }
      ],
      "metadata":{
        
      }
    },
    {
      "cell_type":"code",
      "source":[
        " = np.linspace(0, 5, 100) \n",
        "a, b = 0.2, 0.8\n",
        "\n",
        "\n",
        "# Varying positional arguments \n",
        "y1 = uniform.pdf(x, a, b) \n",
        "y2 = uniform.pdf(x, a, b) \n",
        "plt.plot(x, y1, \"*\", x, y2, \"r--\") x"
      ],
      "execution_count":16,
      "outputs":[
        {
          "ename":"SyntaxError",
          "evalue":"SyntaxError: invalid syntax (<ipython-input-16-8cdf430254c9>, line 1)",
          "traceback":[
            "\u001b[0;31m---------------------------------------------------------------------------",
            "Traceback (most recent call last)",
            "SyntaxError: invalid syntax (<ipython-input-16-8cdf430254c9>, line 1)"
          ],
          "output_type":"error"
        }
      ],
      "metadata":{
        
      }
    },
    {
      "cell_type":"code",
      "source":[
        "data = np.random.uniform(size= 1000)\n",
        "sns.distplot(data, hist=False)\n",
        "\n",
        "plt.show()"
      ],
      "execution_count":17,
      "outputs":[
        {
          "name":"stderr",
          "text":[
            "\/opt\/anaconda3\/envs\/datalore-user\/lib\/python3.7\/site-packages\/seaborn\/distributions.py:2551: FutureWarning: `distplot` is a deprecated function and will be removed in a future version. Please adapt your code to use either `displot` (a figure-level function with similar flexibility) or `kdeplot` (an axes-level function for kernel density plots).\n",
            "  warnings.warn(msg, FutureWarning)\n"
          ],
          "output_type":"stream"
        },
        {
          "data":{
            "image\/png":"[encoded data removed]"
          },
          "metadata":{
            "image\/png":{
              "width":0,
              "height":0
            }
          },
          "output_type":"display_data"
        }
      ],
      "metadata":{
        
      }
    },
    {
      "cell_type":"code",
      "source":[
        "plt.hist(data)"
      ],
      "execution_count":18,
      "outputs":[
        {
          "data":{
            "text\/plain":[
              "(array([108.,  87., 101., 102., 111., 100., 101.,  99.,  89., 102.]),\n",
              " array([0.0018514 , 0.10136479, 0.20087818, 0.30039157, 0.39990496,\n",
              "        0.49941836, 0.59893175, 0.69844514, 0.79795853, 0.89747192,\n",
              "        0.99698531]),\n",
              " <BarContainer object of 10 artists>)"
            ],
            "image\/png":"[encoded data removed]"
          },
          "metadata":{
            "image\/png":{
              "width":0,
              "height":0
            }
          },
          "output_type":"display_data"
        }
      ],
      "metadata":{
        
      }
    },
    {
      "cell_type":"code",
      "source":[
        "uniform_data = stats.uniform.rvs(size=100000,  # Generate 100000 numbers\n",
        "                                 loc = 0,      # From 0 \n",
        "                                 scale=10)     # To 10"
      ],
      "execution_count":19,
      "outputs":[
        
      ],
      "metadata":{
        
      }
    },
    {
      "cell_type":"code",
      "source":[
        "pd.DataFrame(uniform_data).plot(kind=\"density\",  # Plot the distribution\n",
        "                               figsize=(30,15),\n",
        "                               xlim=(-1,11));"
      ],
      "execution_count":20,
      "outputs":[
        {
          "data":{
            "image\/png":"[encoded data removed]"
          },
          "metadata":{
            "image\/png":{
              "width":0,
              "height":0
            }
          },
          "output_type":"display_data"
        }
      ],
      "metadata":{
        
      }
    },
    {
      "cell_type":"markdown",
      "source":[
        "Note: the plot above is an approximation of the underlying distribution, since it is based on a sample of observations.\n",
        "\n",
        "In the code above, we generated 100,000 data points from a uniform distribution spanning the range 0 to 10. In the density plot, we see that the density of our uniform data is essentially level meaning any given value has the same probability of occurring. The area under a probability density curve is always equal to 1.\n",
        "\n",
        "Probability distributions in scipy come with several useful functions for generating random data and extracting values of interest:\n",
        "\n",
        "-**stats.distribution.rvs()** generates random numbers from the specified distribution. The arguments to rvs() will vary depending on the type of distribution you're working with; in the case of the uniform distribution, we have to specify the starting and ending points and the size (number of random points to generate.).\n",
        "\n",
        "-**stats.distribution.cdf()** is used to determine the probability that an observation drawn from a distribution falls below a specified value (known as the cumulative distribution function). In essence, cdf() gives you the area under the distribution's density curve to the left of a certain value on the x axis. \n",
        "\n",
        "\n",
        "**For example**, in the uniform distribution above, there is a 25% chance that an observation will be in the range 0 to 2.5 and a 75% chance it will fall in the range 2.5 to 10. We can confirm this with cdf():"
      ],
      "metadata":{
        
      }
    },
    {
      "cell_type":"code",
      "source":[
        "stats.uniform.cdf(x=2.5,         # Cutoff value (quantile) to check\n",
        "                  loc=0,         # Distribution start\n",
        "                  scale=10)      # Distribution end"
      ],
      "execution_count":21,
      "outputs":[
        {
          "data":{
            "text\/plain":[
              "0.25"
            ]
          },
          "metadata":{
            
          },
          "output_type":"display_data"
        }
      ],
      "metadata":{
        
      }
    },
    {
      "cell_type":"code",
      "source":[
        "stats.uniform.ppf(q=0.4,         # Probability cutoff\n",
        "                  loc=0,         # Distribution start\n",
        "                  scale=10)      # Distribution end"
      ],
      "execution_count":22,
      "outputs":[
        {
          "data":{
            "text\/plain":[
              "4.0"
            ]
          },
          "metadata":{
            
          },
          "output_type":"display_data"
        }
      ],
      "metadata":{
        
      }
    },
    {
      "cell_type":"code",
      "source":[
        "for x in range(-1,12,3):\n",
        "    print(\"Density at x value \" + str(x))\n",
        "    print( stats.uniform.pdf(x, loc=0, scale=10) ) "
      ],
      "execution_count":23,
      "outputs":[
        {
          "name":"stdout",
          "text":[
            "Density at x value -1\n",
            "0.0\n",
            "Density at x value 2\n",
            "0.1\n",
            "Density at x value 5\n",
            "0.1\n",
            "Density at x value 8\n",
            "0.1\n",
            "Density at x value 11\n",
            "0.0\n"
          ],
          "output_type":"stream"
        }
      ],
      "metadata":{
        
      }
    },
    {
      "cell_type":"markdown",
      "source":[
        "Probability distribution functions in scipy also support median(), mean(), var() and std()."
      ],
      "metadata":{
        
      }
    },
    {
      "cell_type":"markdown",
      "source":[
        "## The Normal Distribution \/  Gaussian distribution:\n",
        "\n",
        "- The **normal or Gaussian distribution** is a **continuous** probability distribution characterized by a symmetric *bell-shaped curve*. \n",
        "- A normal distribution is defined by its center (mean) and spread (standard deviation.)\n",
        "- The bulk of the observations generated from a normal distribution lie near the mean\n",
        "![](https:\/\/upload.wikimedia.org\/wikipedia\/commons\/thumb\/8\/8c\/Standard_deviation_diagram.svg\/1920px-Standard_deviation_diagram.svg.png)\n",
        "- which lies at the exact center of the distribution: as a rule of thumb\n",
        "- if 68.27% of the data lies within 1 standard deviation( $sigma$ ) of the mean\n",
        "- 95% lies within 2 standard deviations\n",
        "- and 99.7% lies within 3 standard deviations"
      ],
      "metadata":{
        
      }
    },
    {
      "cell_type":"code",
      "source":[
        "prob_under_minus1 = stats.norm.cdf(x = -1,\n",
        "                                   loc=0,\n",
        "                                   scale = 1)"
      ],
      "execution_count":24,
      "outputs":[
        
      ],
      "metadata":{
        
      }
    },
    {
      "cell_type":"code",
      "source":[
        "prob_over_1 = 1 - stats.norm.cdf(x = 1,\n",
        "                                 loc=0,\n",
        "                                 scale=1)"
      ],
      "execution_count":25,
      "outputs":[
        
      ],
      "metadata":{
        
      }
    },
    {
      "cell_type":"code",
      "source":[
        "between_prob = 1-(prob_under_minus1+prob_over_1)"
      ],
      "execution_count":26,
      "outputs":[
        
      ],
      "metadata":{
        
      }
    },
    {
      "cell_type":"code",
      "source":[
        "print(prob_under_minus1, prob_over_1, between_prob)"
      ],
      "execution_count":27,
      "outputs":[
        {
          "name":"stdout",
          "text":[
            "0.15865525393145707 0.15865525393145707 0.6826894921370859\n"
          ],
          "output_type":"stream"
        }
      ],
      "metadata":{
        
      }
    },
    {
      "cell_type":"markdown",
      "source":[
        "- The output shows that roughly 16% of the data generated by a **normal distribution** with **mean 0** and **standard deviation 1**.\n",
        "- 1 is below -1, 16% is above 1 and 68% lies between -1 and 1, which agrees with the 68, 95, 99.7 rule. Let's plot the normal distribution and inspect areas we calculated:"
      ],
      "metadata":{
        
      }
    },
    {
      "cell_type":"code",
      "source":[
        "plt.rcParams[\"figure.figsize\"] = (30,15)\n",
        "\n",
        "plt.fill_between(x = np.arange(-4,-1,0.01),\n",
        "                 y1 = stats.norm.pdf(np.arange(-4,-1,0.01)),\n",
        "                 facecolor ='red',\n",
        "                 alpha=0.35\n",
        "                 )\n",
        "\n",
        "plt.fill_between(x = np.arange(1,4,0.01),\n",
        "                 y1 = stats.norm.pdf(np.arange(1,4,0.01)),\n",
        "                 facecolor ='red',\n",
        "                 alpha=0.35\n",
        "                 )\n",
        "\n",
        "plt.fill_between(x = np.arange(-1,1,0.01),\n",
        "                 y1 = stats.norm.pdf(np.arange(-1,1,0.01)),\n",
        "                 facecolor ='blue',\n",
        "                 alpha=0.35\n",
        "                 )\n",
        "\n",
        "plt.text(x=-1.8,y=0.03,s= round(prob_under_minus1,3))\n",
        "plt.text(x=-0.2,y=0.1,s= round(between_prob,3))\n",
        "plt.text(x=1.4,y=0.03,s= round(prob_over_1,3))"
      ],
      "execution_count":28,
      "outputs":[
        {
          "data":{
            "text\/plain":[
              "Text(1.4, 0.03, '0.159')"
            ],
            "image\/png":"[encoded data removed]"
          },
          "metadata":{
            "image\/png":{
              "width":0,
              "height":0
            }
          },
          "output_type":"display_data"
        }
      ],
      "metadata":{
        
      }
    },
    {
      "cell_type":"markdown",
      "source":[
        "The plot above shows the bell shape of the normal distribution, the area below and above one standard deviation and the area within 1 standard deviation of the mean. Finding quantiles of the normal distribution is a common task when performing statistical tests. You can check normal distribution quantiles with stats.norm.ppf():"
      ],
      "metadata":{
        
      }
    },
    {
      "cell_type":"code",
      "source":[
        "print( stats.norm.ppf(q=0.025) ) # Find the quantile for the 2.5% cutoff\n",
        "\n",
        "print( stats.norm.ppf(q=0.975) ) # Find the quantile for the 97.5% cutoff"
      ],
      "execution_count":29,
      "outputs":[
        {
          "name":"stdout",
          "text":[
            "-1.9599639845400545\n",
            "1.959963984540054\n"
          ],
          "output_type":"stream"
        }
      ],
      "metadata":{
        
      }
    },
    {
      "cell_type":"markdown",
      "source":[
        "The quantile output above confirms that roughly 5% of the data lies more than 2 standard deviations from the mean.\n",
        "\n",
        "**Note:** a mean of 0 and standard deviation of 1 are default values for the normal distribution."
      ],
      "metadata":{
        
      }
    },
    {
      "cell_type":"markdown",
      "source":[
        "### Binomial Distribution\n",
        "\n",
        "\n",
        "The **binomial distribution is a discrete probability** distribution that models the outcomes of a given number of random trails of some experiment or event. The binomial is defined by two parameters: the probability of success in any given trial and the number of trials. The binomial distribution tells you how likely it is to achieve a given number of successes in n trials of the experiment. For example, we could model flipping a fair coin 10 times with a binomial distribution where the number of trials is set to 10 and the probability of success is set to 0.5. In this case the distribution would tell us how likely it is to get zero heads, 1 head, 2 heads and so on.\n",
        "\n",
        "The scipy name for the binomial is binom. Let's generate and investigate some binomial data:\n",
        "\n",
        "- The Binomial distribution is the discrete probability distribution\n",
        "- it has parameters n and p.\n",
        "    - **n:** is the number of trials.\n",
        "    - **p:** p is the probability of success\n",
        "![](Distributions_images\/Binomial-Distribution.jpg.webp)\n",
        "- Binomial Distribution is a Discrete Distribution\n",
        "- It describes the outcome of binary scenarios, e.g. toss of a coin, it will either be head or tails.\n",
        "- It has three parameters:\n",
        "\n",
        "    - n - number of trials.\n",
        "    - p - probability of occurence of each trial (e.g. for toss of a coin 0.5 each).\n",
        "    - size - The shape of the returned array."
      ],
      "metadata":{
        
      }
    },
    {
      "cell_type":"code",
      "source":[
        "from scipy.stats import binom"
      ],
      "execution_count":30,
      "outputs":[
        
      ],
      "metadata":{
        
      }
    },
    {
      "cell_type":"code",
      "source":[
        "no_of_trails = 20\n",
        "prob = 0.6\n",
        "pb = binom(n = no_of_trails,p = prob)\n",
        "\n",
        "\n",
        "x = np.arange(1,21)\n",
        "pmf = pb.pmf(x)"
      ],
      "execution_count":31,
      "outputs":[
        
      ],
      "metadata":{
        
      }
    },
    {
      "cell_type":"code",
      "source":[
        "sns.displot(x)"
      ],
      "execution_count":32,
      "outputs":[
        {
          "data":{
            "text\/plain":[
              "<seaborn.axisgrid.FacetGrid at 0x7f5dcb7b1290>"
            ],
            "image\/png":"[encoded data removed]"
          },
          "metadata":{
            "image\/png":{
              "width":0,
              "height":0
            }
          },
          "output_type":"display_data"
        }
      ],
      "metadata":{
        
      }
    },
    {
      "cell_type":"code",
      "source":[
        "x = np.random.binomial(n=10, p=0.5, size=10)\n",
        "\n",
        "print(x)"
      ],
      "execution_count":33,
      "outputs":[
        {
          "name":"stdout",
          "text":[
            "[7 5 4 2 3 2 5 7 6 3]\n"
          ],
          "output_type":"stream"
        }
      ],
      "metadata":{
        
      }
    },
    {
      "cell_type":"code",
      "source":[
        "fair_coin_flips  =  stats.binom.rvs(n = 10,  # Number of flips per trial\n",
        "                                    p=0.5,       # Success probability\n",
        "                                    size=10000 # number of  Trail\n",
        "                                    )"
      ],
      "execution_count":34,
      "outputs":[
        
      ],
      "metadata":{
        
      }
    },
    {
      "cell_type":"code",
      "source":[
        "pd.crosstab(index=\"counts\",columns=fair_coin_flips)"
      ],
      "execution_count":35,
      "outputs":[
        {
          "data":{
            "text\/html":[
              "<div>\n",
              "<style scoped>\n",
              "    .dataframe tbody tr th:only-of-type {\n",
              "        vertical-align: middle;\n",
              "    }\n",
              "\n",
              "    .dataframe tbody tr th {\n",
              "        vertical-align: top;\n",
              "    }\n",
              "\n",
              "    .dataframe thead th {\n",
              "        text-align: right;\n",
              "    }\n",
              "<\/style>\n",
              "<table border=\"1\" class=\"dataframe\">\n",
              "  <thead>\n",
              "    <tr style=\"text-align: right;\">\n",
              "      <th>col_0<\/th>\n",
              "      <th>0<\/th>\n",
              "      <th>1<\/th>\n",
              "      <th>2<\/th>\n",
              "      <th>3<\/th>\n",
              "      <th>4<\/th>\n",
              "      <th>5<\/th>\n",
              "      <th>6<\/th>\n",
              "      <th>7<\/th>\n",
              "      <th>8<\/th>\n",
              "      <th>9<\/th>\n",
              "      <th>10<\/th>\n",
              "    <\/tr>\n",
              "    <tr>\n",
              "      <th>row_0<\/th>\n",
              "      <th><\/th>\n",
              "      <th><\/th>\n",
              "      <th><\/th>\n",
              "      <th><\/th>\n",
              "      <th><\/th>\n",
              "      <th><\/th>\n",
              "      <th><\/th>\n",
              "      <th><\/th>\n",
              "      <th><\/th>\n",
              "      <th><\/th>\n",
              "      <th><\/th>\n",
              "    <\/tr>\n",
              "  <\/thead>\n",
              "  <tbody>\n",
              "    <tr>\n",
              "      <th>counts<\/th>\n",
              "      <td>7<\/td>\n",
              "      <td>76<\/td>\n",
              "      <td>442<\/td>\n",
              "      <td>1157<\/td>\n",
              "      <td>2101<\/td>\n",
              "      <td>2436<\/td>\n",
              "      <td>2005<\/td>\n",
              "      <td>1229<\/td>\n",
              "      <td>446<\/td>\n",
              "      <td>88<\/td>\n",
              "      <td>13<\/td>\n",
              "    <\/tr>\n",
              "  <\/tbody>\n",
              "<\/table>\n",
              "<\/div>"
            ]
          },
          "metadata":{
            
          },
          "output_type":"display_data"
        }
      ],
      "metadata":{
        
      }
    },
    {
      "cell_type":"code",
      "source":[
        "df = pd.DataFrame(fair_coin_flips)\n",
        "df"
      ],
      "execution_count":36,
      "outputs":[
        {
          "data":{
            "text\/html":[
              "<div>\n",
              "<style scoped>\n",
              "    .dataframe tbody tr th:only-of-type {\n",
              "        vertical-align: middle;\n",
              "    }\n",
              "\n",
              "    .dataframe tbody tr th {\n",
              "        vertical-align: top;\n",
              "    }\n",
              "\n",
              "    .dataframe thead th {\n",
              "        text-align: right;\n",
              "    }\n",
              "<\/style>\n",
              "<table border=\"1\" class=\"dataframe\">\n",
              "  <thead>\n",
              "    <tr style=\"text-align: right;\">\n",
              "      <th><\/th>\n",
              "      <th>0<\/th>\n",
              "    <\/tr>\n",
              "  <\/thead>\n",
              "  <tbody>\n",
              "    <tr>\n",
              "      <th>0<\/th>\n",
              "      <td>3<\/td>\n",
              "    <\/tr>\n",
              "    <tr>\n",
              "      <th>1<\/th>\n",
              "      <td>7<\/td>\n",
              "    <\/tr>\n",
              "    <tr>\n",
              "      <th>2<\/th>\n",
              "      <td>4<\/td>\n",
              "    <\/tr>\n",
              "    <tr>\n",
              "      <th>3<\/th>\n",
              "      <td>5<\/td>\n",
              "    <\/tr>\n",
              "    <tr>\n",
              "      <th>4<\/th>\n",
              "      <td>3<\/td>\n",
              "    <\/tr>\n",
              "    <tr>\n",
              "      <th>...<\/th>\n",
              "      <td>...<\/td>\n",
              "    <\/tr>\n",
              "    <tr>\n",
              "      <th>9995<\/th>\n",
              "      <td>5<\/td>\n",
              "    <\/tr>\n",
              "    <tr>\n",
              "      <th>9996<\/th>\n",
              "      <td>5<\/td>\n",
              "    <\/tr>\n",
              "    <tr>\n",
              "      <th>9997<\/th>\n",
              "      <td>1<\/td>\n",
              "    <\/tr>\n",
              "    <tr>\n",
              "      <th>9998<\/th>\n",
              "      <td>4<\/td>\n",
              "    <\/tr>\n",
              "    <tr>\n",
              "      <th>9999<\/th>\n",
              "      <td>3<\/td>\n",
              "    <\/tr>\n",
              "  <\/tbody>\n",
              "<\/table>\n",
              "<p>10000 rows × 1 columns<\/p>\n",
              "<\/div>"
            ]
          },
          "metadata":{
            
          },
          "output_type":"display_data"
        }
      ],
      "metadata":{
        
      }
    },
    {
      "cell_type":"code",
      "source":[
        "df.hist(range=(-0.5,10.5),bins=11)"
      ],
      "execution_count":37,
      "outputs":[
        {
          "data":{
            "text\/plain":[
              "array([[<AxesSubplot:title={'center':'0'}>]], dtype=object)"
            ],
            "image\/png":"[encoded data removed]"
          },
          "metadata":{
            "image\/png":{
              "width":0,
              "height":0
            }
          },
          "output_type":"display_data"
        }
      ],
      "metadata":{
        
      }
    },
    {
      "cell_type":"code",
      "source":[
        "biased_coin_flips   =  stats.binom.rvs(n = 10,  # Number of flips per trial\n",
        "                                    p=0.8,       # Success probability\n",
        "                                    size=10000 # number of  Trail\n",
        "                                    )\n",
        "# Print table of counts\n",
        "print( pd.crosstab(index=\"counts\", columns= biased_coin_flips))\n",
        "\n",
        "# Plot histogram\n",
        "pd.DataFrame(biased_coin_flips).hist(range=(-0.5,10.5), bins=11);"
      ],
      "execution_count":38,
      "outputs":[
        {
          "name":"stdout",
          "text":[
            "col_0   3   4    5    6     7     8     9     10\n",
            "row_0                                           \n",
            "counts  11  58  271  886  2020  2996  2727  1031\n"
          ],
          "output_type":"stream"
        },
        {
          "data":{
            "image\/png":"[encoded data removed]"
          },
          "metadata":{
            "image\/png":{
              "width":0,
              "height":0
            }
          },
          "output_type":"display_data"
        }
      ],
      "metadata":{
        
      }
    },
    {
      "cell_type":"markdown",
      "source":[
        "The cdf() function lets us check the probability of achieving a number of successes within a certain range:"
      ],
      "metadata":{
        
      }
    },
    {
      "cell_type":"code",
      "source":[
        "stats.binom.cdf(k=5,        # Probability of k = 5 successes or less\n",
        "                n=10,       # With 10 flips\n",
        "                p=0.8)      # And success probability 0.8"
      ],
      "execution_count":39,
      "outputs":[
        {
          "data":{
            "text\/plain":[
              "0.032793497599999964"
            ]
          },
          "metadata":{
            
          },
          "output_type":"display_data"
        }
      ],
      "metadata":{
        
      }
    },
    {
      "cell_type":"code",
      "source":[
        "1 - stats.binom.cdf(k=8,        # Probability of k = 9 successes or more\n",
        "                    n=10,       # With 10 flips\n",
        "                    p=0.8)      # And success probability 0.8"
      ],
      "execution_count":40,
      "outputs":[
        {
          "data":{
            "text\/plain":[
              "0.37580963840000003"
            ]
          },
          "metadata":{
            
          },
          "output_type":"display_data"
        }
      ],
      "metadata":{
        
      }
    },
    {
      "cell_type":"markdown",
      "source":[
        "For **continuous probability density functions**, you use pdf() to check the probability density at a given x value. For discrete distributions like the binomial, use stats.distribution.pmf() **(probability mass function)** to check the mass (proportion of observations) at given number of successes k:"
      ],
      "metadata":{
        
      }
    },
    {
      "cell_type":"code",
      "source":[
        "stats.binom.pmf(k=5,        # Probability of k = 5 successes\n",
        "                n=10,       # With 10 flips\n",
        "                p=0.5)      # And success probability 0.5"
      ],
      "execution_count":41,
      "outputs":[
        {
          "data":{
            "text\/plain":[
              "0.24609375000000025"
            ]
          },
          "metadata":{
            
          },
          "output_type":"display_data"
        }
      ],
      "metadata":{
        
      }
    },
    {
      "cell_type":"code",
      "source":[
        "stats.binom.pmf(k=8,        # Probability of k = 8 successes\n",
        "                n=10,       # With 10 flips\n",
        "                p=0.8)      # And success probability 0.8"
      ],
      "execution_count":42,
      "outputs":[
        {
          "data":{
            "text\/plain":[
              "0.301989888"
            ]
          },
          "metadata":{
            
          },
          "output_type":"display_data"
        }
      ],
      "metadata":{
        
      }
    },
    {
      "cell_type":"markdown",
      "source":[
        "## The Geometric and Exponential Distributions\n",
        "\n",
        "The [geometric](https:\/\/en.wikipedia.org\/wiki\/Geometric_distribution\n",
        ") and [exponential distributions](https:\/\/en.wikipedia.org\/wiki\/Exponential_distribution\n",
        ") model the time it takes for an event to occur. The geometric distribution is discrete and models the number of trials it takes to achieve a success in repeated experiments with a given probability of success. The exponential distribution is a continuous analog of the geometric distribution and models the amount of time you have to wait before an event occurs given a certain occurrence rate.\n",
        "\n",
        "The scipy nickname for the geometric distribution is \"geom\". Let's use the geom functions to model the number of trials it takes to get a success (heads) when flipping a fair coin:"
      ],
      "metadata":{
        
      }
    },
    {
      "cell_type":"code",
      "source":[
        "r.seed(12)\n",
        "\n",
        "flips_till_heads = stats.geom.rvs(size=10000,  # Generate geometric data\n",
        "                                  p=0.5 #With success prob 0.5\n",
        "                                    )"
      ],
      "execution_count":43,
      "outputs":[
        
      ],
      "metadata":{
        
      }
    },
    {
      "cell_type":"code",
      "source":[
        "# Print table of counts\n",
        "print( pd.crosstab(index=\"counts\", columns= flips_till_heads))"
      ],
      "execution_count":44,
      "outputs":[
        {
          "name":"stdout",
          "text":[
            "col_0     1     2     3    4    5    6   7   8   9   10  11  12  14  15\n",
            "row_0                                                                  \n",
            "counts  4981  2504  1309  588  303  162  87  34  14   8   5   2   2   1\n"
          ],
          "output_type":"stream"
        }
      ],
      "metadata":{
        
      }
    },
    {
      "cell_type":"code",
      "source":[
        "# Plot histogram\n",
        "pd.DataFrame(flips_till_heads).hist(range=(-0.5,max(flips_till_heads)+0.5)\n",
        "                                    , bins=max(flips_till_heads)+1);"
      ],
      "execution_count":45,
      "outputs":[
        {
          "data":{
            "image\/png":"[encoded data removed]"
          },
          "metadata":{
            "image\/png":{
              "width":0,
              "height":0
            }
          },
          "output_type":"display_data"
        }
      ],
      "metadata":{
        
      }
    },
    {
      "cell_type":"markdown",
      "source":[
        "The distribution looks similar to what we'd expect: it is very likely to get a heads in 1 or 2 flips, while it is very unlikely for it to take more than 5 flips to get a heads. In the 10,000 trails we generated, the longest it took to get a heads was 13 flips.\n",
        "\n",
        "\n",
        "The Cdf() to check the probability of needing 6 flips or more to get a success:"
      ],
      "metadata":{
        
      }
    },
    {
      "cell_type":"code",
      "source":[
        "first_five = stats.geom.cdf(k= 5,  # Prob of success in first 5 flips\n",
        "                            p = 0.5)\n",
        "first_five"
      ],
      "execution_count":46,
      "outputs":[
        {
          "data":{
            "text\/plain":[
              "0.96875"
            ]
          },
          "metadata":{
            
          },
          "output_type":"display_data"
        }
      ],
      "metadata":{
        
      }
    },
    {
      "cell_type":"markdown",
      "source":[
        "Use pmf() to check the probability of seeing a specific number of flips before a successes:"
      ],
      "metadata":{
        
      }
    },
    {
      "cell_type":"code",
      "source":[
        "stats.geom.pmf(k=2,   # Prob of needing exactly 2 flips to get first success\n",
        "              p=0.5)"
      ],
      "execution_count":47,
      "outputs":[
        {
          "data":{
            "text\/plain":[
              "0.25"
            ]
          },
          "metadata":{
            
          },
          "output_type":"display_data"
        }
      ],
      "metadata":{
        
      }
    },
    {
      "cell_type":"code",
      "source":[
        "# Get the probability of waiting more than 1 time unit before a success\n",
        "\n",
        "prob_1 = stats.expon.cdf(x=1,        \n",
        "                         scale=1)  # Arrival rate\n",
        "\n",
        "1 - prob_1"
      ],
      "execution_count":48,
      "outputs":[
        {
          "data":{
            "text\/plain":[
              "0.36787944117144233"
            ]
          },
          "metadata":{
            
          },
          "output_type":"display_data"
        }
      ],
      "metadata":{
        
      }
    },
    {
      "cell_type":"markdown",
      "source":[
        "**Note:**  The average arrival time for the exponential distribution is equal to 1\/arrival_rate"
      ],
      "metadata":{
        
      }
    },
    {
      "cell_type":"code",
      "source":[
        "plt.fill_between(x=np.arange(0,1,0.01),\n",
        "                 y1 = stats.expon.pdf(np.arange(0,1,0.01)),\n",
        "                 facecolor='blue',\n",
        "                 alpha=0.35\n",
        "                 )\n",
        "\n",
        "plt.fill_between(x=np.arange(1,7,0.01),\n",
        "                 y1 = stats.expon.pdf(np.arange(1,7,0.01)),\n",
        "                 facecolor='red',\n",
        "                 alpha=0.35\n",
        "                 )\n",
        "plt.text(x=0.3, y=0.2, s= round(prob_1,3))\n",
        "plt.text(x=1.5, y=0.08, s= round(1 - prob_1,3))"
      ],
      "execution_count":51,
      "outputs":[
        {
          "data":{
            "text\/plain":[
              "Text(1.5, 0.08, '0.368')"
            ],
            "image\/png":"[encoded data removed]"
          },
          "metadata":{
            "image\/png":{
              "width":0,
              "height":0
            }
          },
          "output_type":"display_data"
        }
      ],
      "metadata":{
        
      }
    },
    {
      "cell_type":"markdown",
      "source":[
        "Similar to the geometric distribution, the exponential starts high and has a long tail that trails off to the right that contains rare cases where you have to wait much longer than average for an arrival."
      ],
      "metadata":{
        
      }
    },
    {
      "cell_type":"markdown",
      "source":[
        "## The Poisson Distribution\n",
        "\n",
        "The [Poisson distribution](https:\/\/en.wikipedia.org\/wiki\/Poisson_distribution) models the probability of seeing a certain number of successes within a time interval, where the time it takes for the next success is modeled by an exponential distribution. The Poisson distribution can be used to model traffic, such as the number of arrivals a hospital can expect in a hour's time or the number of emails you'd expect to receive in a week.\n",
        "\n",
        "The scipy name for the Poisson distribution is \"poisson\". Let's generate and plot some data from a Poisson distribution with an arrival rate of 1 per time unit:"
      ],
      "metadata":{
        
      }
    },
    {
      "cell_type":"code",
      "source":[
        "arrival_rate_1 = stats.poisson.rvs(size=1000, # Generate Poisson data\n",
        "                                   mu=1)  # Average arrival time 1"
      ],
      "execution_count":52,
      "outputs":[
        
      ],
      "metadata":{
        
      }
    },
    {
      "cell_type":"code",
      "source":[
        "df = pd.crosstab(index=\"counts\", columns= arrival_rate_1)\n",
        "df"
      ],
      "execution_count":53,
      "outputs":[
        {
          "data":{
            "text\/html":[
              "<div>\n",
              "<style scoped>\n",
              "    .dataframe tbody tr th:only-of-type {\n",
              "        vertical-align: middle;\n",
              "    }\n",
              "\n",
              "    .dataframe tbody tr th {\n",
              "        vertical-align: top;\n",
              "    }\n",
              "\n",
              "    .dataframe thead th {\n",
              "        text-align: right;\n",
              "    }\n",
              "<\/style>\n",
              "<table border=\"1\" class=\"dataframe\">\n",
              "  <thead>\n",
              "    <tr style=\"text-align: right;\">\n",
              "      <th>col_0<\/th>\n",
              "      <th>0<\/th>\n",
              "      <th>1<\/th>\n",
              "      <th>2<\/th>\n",
              "      <th>3<\/th>\n",
              "      <th>4<\/th>\n",
              "      <th>5<\/th>\n",
              "    <\/tr>\n",
              "    <tr>\n",
              "      <th>row_0<\/th>\n",
              "      <th><\/th>\n",
              "      <th><\/th>\n",
              "      <th><\/th>\n",
              "      <th><\/th>\n",
              "      <th><\/th>\n",
              "      <th><\/th>\n",
              "    <\/tr>\n",
              "  <\/thead>\n",
              "  <tbody>\n",
              "    <tr>\n",
              "      <th>counts<\/th>\n",
              "      <td>351<\/td>\n",
              "      <td>390<\/td>\n",
              "      <td>181<\/td>\n",
              "      <td>56<\/td>\n",
              "      <td>17<\/td>\n",
              "      <td>5<\/td>\n",
              "    <\/tr>\n",
              "  <\/tbody>\n",
              "<\/table>\n",
              "<\/div>"
            ]
          },
          "metadata":{
            
          },
          "output_type":"display_data"
        }
      ],
      "metadata":{
        
      }
    },
    {
      "cell_type":"code",
      "source":[
        "pd.DataFrame(arrival_rate_1).hist(range=(-0.5,max(arrival_rate_1)+0.5)\n",
        "                                    , bins=max(arrival_rate_1)+1)"
      ],
      "execution_count":60,
      "outputs":[
        {
          "data":{
            "text\/plain":[
              "array([[<AxesSubplot:title={'center':'0'}>]], dtype=object)"
            ],
            "image\/png":"[encoded data removed]"
          },
          "metadata":{
            "image\/png":{
              "width":0,
              "height":0
            }
          },
          "output_type":"display_data"
        }
      ],
      "metadata":{
        
      }
    },
    {
      "cell_type":"markdown",
      "source":[
        "The histogram shows that when arrivals are relatively infrequent, it is rare to see more than a couple of arrivals in each time period. When the arrival rate is high, it becomes increasingly rare to see a low number of arrivals and the distribution starts to look more symmetric:"
      ],
      "metadata":{
        
      }
    },
    {
      "cell_type":"code",
      "source":[
        "r.seed(12)\n",
        "\n",
        "arrival_rate_10 = stats.poisson.rvs(size=10000,  # Generate Poisson data\n",
        "                                   mu=10 )       # Average arrival time 10\n",
        "\n",
        "# Print table of counts\n",
        "print( pd.crosstab(index=\"counts\", columns= arrival_rate_10))\n",
        "\n",
        "# Plot histogram\n",
        "pd.DataFrame(arrival_rate_10).hist(range=(-0.5,max(arrival_rate_10)+0.5)\n",
        "                                    , bins=max(arrival_rate_10)+1);"
      ],
      "execution_count":62,
      "outputs":[
        {
          "name":"stdout",
          "text":[
            "col_0   0   1   2   3    4    5    6    7     8     9   ...   15   16   17  \\\n",
            "row_0                                                   ...                  \n",
            "counts   2   4  22  73  179  362  606  904  1073  1237  ...  361  243  130   \n",
            "\n",
            "col_0   18  19  20  21  22  23  31  \n",
            "row_0                               \n",
            "counts  65  41  18   5   6   2   1  \n",
            "\n",
            "[1 rows x 25 columns]\n"
          ],
          "output_type":"stream"
        },
        {
          "data":{
            "image\/png":"[encoded data removed]"
          },
          "metadata":{
            "image\/png":{
              "width":0,
              "height":0
            }
          },
          "output_type":"display_data"
        }
      ],
      "metadata":{
        
      }
    },
    {
      "cell_type":"markdown",
      "source":[
        "As with other discrete probability distributions, we can use cdf() to check the probability of achieving more or less than a certain number of successes and pmf() to check the probability of obtaining a specific number of successes:"
      ],
      "metadata":{
        
      }
    },
    {
      "cell_type":"code",
      "source":[
        "stats.poisson.cdf(k=5,     # Check the probability of 5 arrivals or less\n",
        "                  mu=10)   # With arrival rate 10"
      ],
      "execution_count":63,
      "outputs":[
        {
          "data":{
            "text\/plain":[
              "0.06708596287903189"
            ]
          },
          "metadata":{
            
          },
          "output_type":"display_data"
        }
      ],
      "metadata":{
        
      }
    },
    {
      "cell_type":"code",
      "source":[
        "stats.poisson.pmf(k=10,     # Check the prob f exactly 10 arrivals\n",
        "                  mu=10)    # With arrival rate 10"
      ],
      "execution_count":64,
      "outputs":[
        {
          "data":{
            "text\/plain":[
              "0.12511003572113372"
            ]
          },
          "metadata":{
            
          },
          "output_type":"display_data"
        }
      ],
      "metadata":{
        
      }
    },
    {
      "cell_type":"code",
      "source":[
        
      ],
      "execution_count":0,
      "outputs":[
        
      ],
      "metadata":{
        
      }
    }
  ],
  "metadata":{
    
  },
  "nbformat":4,
  "nbformat_minor":0
}